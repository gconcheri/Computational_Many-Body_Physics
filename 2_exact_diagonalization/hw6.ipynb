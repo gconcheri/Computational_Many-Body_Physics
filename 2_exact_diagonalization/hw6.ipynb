{
 "cells": [
  {
   "cell_type": "code",
   "execution_count": 2,
   "metadata": {},
   "outputs": [],
   "source": [
    "import numpy as np \n",
    "import matplotlib.pyplot as plt\n",
    "import ed_conserve as ed\n",
    "import scipy.sparse.linalg\n",
    "import importlib \n"
   ]
  },
  {
   "cell_type": "markdown",
   "metadata": {},
   "source": [
    "## a)\n",
    "ed_conserve.py implements the same Hamiltonian as in the last weeks, namely\n",
    "$$\n",
    " H = - J \\sum_{j = 0}^{L-1} \\sigma^x_j \\sigma^x_{j+1} - g \\sum_{j=0}^{L-1} \\sigma^z_j\n",
    "$$\n",
    "Call the function calc_H() for N = 10, J = 1, g = 0.1 to obtain a dictionary of block-\n",
    "Hamiltonians. Determine the ground state energy using scipy.sparse.linalg.eigsh\n",
    "and ensure that you get the same result as in last weeks program (which should be\n",
    "E0 ≈ −10.0250156642343)."
   ]
  },
  {
   "cell_type": "code",
   "execution_count": 3,
   "metadata": {},
   "outputs": [
    {
     "name": "stdout",
     "output_type": "stream",
     "text": [
      "Generating Hamiltonian ... done\n"
     ]
    },
    {
     "data": {
      "text/plain": [
       "array([-10.02501566])"
      ]
     },
     "execution_count": 3,
     "metadata": {},
     "output_type": "execute_result"
    }
   ],
   "source": [
    "N = 10\n",
    "J = 1\n",
    "g = 0.1\n",
    "H = ed.calc_H(N, J, g)\n",
    "groundeigval, groundeigstate = scipy.sparse.linalg.eigsh( H[0] , k = 1, which = 'SA', return_eigenvectors=True)\n",
    "groundeigval"
   ]
  },
  {
   "cell_type": "markdown",
   "metadata": {},
   "source": [
    "## b)\n",
    "We identify spin configurations with integers using the binary representation, e.g. for 6 sites,\n",
    "$$\n",
    "|↓↑↓↑↑↓⟩ = 010110_2 = 16 + 4 + 2 = 22_{10} \\hspace{3cm} (2)\n",
    "$$\n",
    "The builtin Python functions bin() and int() are useful to convert between these\n",
    "representations and are used in the function ed_conserve.translate() to shift the\n",
    "bits, implementing the translation operator T . However, this implementation is\n",
    "fairly slow (and actually a performance critical part of the program). Since the\n",
    "computer stores integers in binary form anyways, it is naturally to directly use the\n",
    "bitwise operators & (AND), | (OR), ^ (XOR), and >>, << (for right, left shift of the\n",
    "bits). Replace the implementation of the translate() function by a faster version\n",
    "using only the bitwise operators."
   ]
  },
  {
   "cell_type": "code",
   "execution_count": 4,
   "metadata": {},
   "outputs": [
    {
     "data": {
      "text/plain": [
       "<module 'ed_conserve' from '/Users/Giovanni/Desktop/CompQMBP/tutorials-2024/2_exact_diagonalization/ed_conserve.py'>"
      ]
     },
     "execution_count": 4,
     "metadata": {},
     "output_type": "execute_result"
    }
   ],
   "source": [
    "importlib.reload(ed)"
   ]
  },
  {
   "cell_type": "markdown",
   "metadata": {},
   "source": [
    "## c)\n",
    "One advantage of the block diagonal form is that we can directly label the energies\n",
    "by k and e.g. inspect the dispersion relation of excitations. Plot the lowest 5 energies\n",
    "in each k block versus the momentum quantum number k for N = 14, g = 1."
   ]
  },
  {
   "cell_type": "code",
   "execution_count": 19,
   "metadata": {},
   "outputs": [
    {
     "name": "stdout",
     "output_type": "stream",
     "text": [
      "Generating Hamiltonian ... done\n"
     ]
    }
   ],
   "source": [
    "eigvalues = []\n",
    "N = 14 \n",
    "g = 1\n",
    "H_c = ed.calc_H(N, J, g)\n",
    "k = [i for i in range(-N//2+1, N//2+1)]\n",
    "for i in range(-N//2+1, N//2+1):\n",
    "    eigvalues.append(scipy.sparse.linalg.eigsh( H_c[i] , k = 5, which = 'SA', return_eigenvectors=True)[0])"
   ]
  },
  {
   "cell_type": "code",
   "execution_count": 20,
   "metadata": {},
   "outputs": [],
   "source": [
    "eigvalues = np.array(eigvalues) #first element of list is array of 5 eigenvalues for first k"
   ]
  },
  {
   "cell_type": "code",
   "execution_count": 21,
   "metadata": {},
   "outputs": [
    {
     "data": {
      "image/png": "[encoded data removed]",
      "text/plain": [
       "<Figure size 640x480 with 1 Axes>"
      ]
     },
     "metadata": {},
     "output_type": "display_data"
    }
   ],
   "source": [
    "\n",
    "for i in range(N): \n",
    "    for l in range(5):\n",
    "        plt.plot(k,eigvalues[:,l], 'bo')"
   ]
  },
  {
   "cell_type": "markdown",
   "metadata": {},
   "source": [
    "## d)\n",
    "Call the function ed_conserve.calc_basis() and extract the dimensions of the blocks.\n",
    "Plot the dimensions of the blocks versus N on a logarithmic y-scale."
   ]
  },
  {
   "cell_type": "code",
   "execution_count": 61,
   "metadata": {},
   "outputs": [],
   "source": [
    "#dim_of_qn = {}\n",
    "#dim_of_qn[\"dim_of_qn_{}\".format(i)] = len(basis[i])\n",
    "dimofqn = []\n",
    "N = np.linspace(5,15,10)\n",
    "for n in N:\n",
    "    basis, ind_inbasis = ed.calc_basis(int(n))\n",
    "    a = [len(basis[i]) for i in range(-int(n)//2+1,int(n)//2+1)]\n",
    "    dimofqn.append(a)    "
   ]
  },
  {
   "cell_type": "code",
   "execution_count": 62,
   "metadata": {},
   "outputs": [
    {
     "name": "stdout",
     "output_type": "stream",
     "text": [
      "[[6, 6, 8, 6, 6], [11, 9, 14, 9, 11, 10], [18, 18, 18, 20, 18, 18, 18], [30, 33, 30, 36, 30, 33, 30, 34], [56, 58, 56, 56, 60, 56, 56, 58, 56], [105, 99, 105, 99, 108, 99, 105, 99, 105, 100], [186, 186, 186, 186, 186, 188, 186, 186, 186, 186, 186], [335, 346, 338, 344, 335, 352, 335, 344, 338, 346, 335, 348], [630, 630, 630, 630, 630, 630, 632, 630, 630, 630, 630, 630, 630], [2182, 2188, 2184, 2182, 2188, 2182, 2182, 2192, 2182, 2182, 2188, 2182, 2184, 2188, 2182]]\n"
     ]
    }
   ],
   "source": [
    "print(dimofqn)\n",
    "\n",
    "#print(dimofqn[2][0])\n",
    "#print(dimofqn[2])"
   ]
  },
  {
   "cell_type": "code",
   "execution_count": 85,
   "metadata": {},
   "outputs": [
    {
     "data": {
      "image/png": "[encoded data removed]",
      "text/plain": [
       "<Figure size 640x480 with 1 Axes>"
      ]
     },
     "metadata": {},
     "output_type": "display_data"
    }
   ],
   "source": [
    "for i in range(len(dimofqn)):\n",
    "    plt.semilogy([N[i]]*len(dimofqn[i]),dimofqn[i], 'bo')"
   ]
  },
  {
   "cell_type": "markdown",
   "metadata": {},
   "source": [
    "## e) \n",
    "While the code uses momentum conservation, it does not exploit the parity symmetry: the operator $P = \\prod_{j=0}^{N-1} \\sigma_z$ with eigenvalues p = ±1 commutes with both\n",
    "H and T . Adjust the functions ed_conserve.calc_basis() and ed_conserve.calc_H()\n",
    "such that they exploit P for a further block-diagonalization of H.\n",
    "Hint: Write a function to determine the parity eigenvalue p for a given spin configuration. Use tuples (p, k) (instead of simply k) as keys qn for the dictionaries\n",
    "basis,ind_in_basis, H and adjust code using these keys. That’s all!"
   ]
  },
  {
   "cell_type": "code",
   "execution_count": 84,
   "metadata": {},
   "outputs": [
    {
     "data": {
      "text/plain": [
       "[0, 0, 0, 0, 0, 1, 1, 0, 0, 0]"
      ]
     },
     "execution_count": 84,
     "metadata": {},
     "output_type": "execute_result"
    }
   ],
   "source": [
    "s = 24\n",
    "bs = bin(s)[2:].zfill(10)\n",
    "binary_list = [int(digit) for digit in bs]\n",
    "binary_list\n",
    "\n"
   ]
  }
 ],
 "metadata": {
  "kernelspec": {
   "display_name": "Python 3",
   "language": "python",
   "name": "python3"
  },
  "language_info": {
   "codemirror_mode": {
    "name": "ipython",
    "version": 3
   },
   "file_extension": ".py",
   "mimetype": "text/x-python",
   "name": "python",
   "nbconvert_exporter": "python",
   "pygments_lexer": "ipython3",
   "version": "3.12.3"
  }
 },
 "nbformat": 4,
 "nbformat_minor": 2
}

{
 "cells": [
  {
   "cell_type": "code",
   "execution_count": 1,
   "metadata": {},
   "outputs": [],
   "source": [
    "import numpy as np\n",
    "import scipy\n",
    "from scipy import sparse\n",
    "import scipy.sparse.linalg\n",
    "import matplotlib.pyplot as plt\n",
    "import lanczos as lz"
   ]
  },
  {
   "cell_type": "markdown",
   "metadata": {},
   "source": [
    "## Part a)\n",
    "\n",
    "Generate the Hamiltonian for L = 14 and g = 1.5 using the functions provided in\n",
    "lanczos.py. Moreover, generate a random state (in the full basis), which we can use\n",
    "as a starting vector for the Lanczos iteration."
   ]
  },
  {
   "cell_type": "code",
   "execution_count": 5,
   "metadata": {},
   "outputs": [
    {
     "name": "stdout",
     "output_type": "stream",
     "text": [
      "[0 1 1 ... 1 0 0]\n"
     ]
    }
   ],
   "source": [
    "#L = 14\n",
    "#g = 1.5\n",
    "L = 10\n",
    "g = 0.1\n",
    "H = lz.gen_hamiltonian(lz.gen_sx_list(L), lz.gen_sz_list(L), g, J=1.)\n",
    "\n",
    "#generate random state\n",
    "def prepare_randomstate(L):\n",
    "    \"\"\"Initialize the system.\"\"\"\n",
    "    state = np.random.randint(0, 2, size=(2**L))\n",
    "    return state\n",
    "\n",
    "initial_state = prepare_randomstate(L)\n",
    "print(initial_state)\n"
   ]
  },
  {
   "cell_type": "markdown",
   "metadata": {},
   "source": [
    "## b) \n",
    "Call the function lanczos() with parameters N=200, stabilize=False. The function\n",
    "returns the tridiagonal matrix T and orthonormal basis of the Krylov space generated during the Lanczos iteration. Determine the 10 smallest eigenvalues of T\n",
    "using np.linalg.eigvalsh. Do you find a ground state degeneracy? Do you expect a\n",
    "degeneracy for these parameters?"
   ]
  },
  {
   "cell_type": "code",
   "execution_count": 6,
   "metadata": {},
   "outputs": [
    {
     "name": "stdout",
     "output_type": "stream",
     "text": [
      "[-10.02501566 -10.02501566 -10.02501566 -10.02501566 -10.02501566\n",
      " -10.02501566 -10.02501566 -10.02501566  -6.40332833  -6.40332833]\n"
     ]
    }
   ],
   "source": [
    "T_false, vecs_false = lz.lanczos(initial_state, H)\n",
    "\n",
    "ten_smallest_eigenvalues = np.linalg.eigvalsh(T_false)[:10]\n",
    "print(ten_smallest_eigenvalues)"
   ]
  },
  {
   "cell_type": "markdown",
   "metadata": {},
   "source": [
    "I found a ground state degeneracy which is not expected, since the model should follow a ferromagnetic behaviour with no degeneracy between ground state and first excited state."
   ]
  },
  {
   "cell_type": "markdown",
   "metadata": {},
   "source": [
    "Call lanczos() again with stabilize=True. What does this option do? Do you get the\n",
    "expected degeneracy now? Can you explain this? Confirm the results by comparing\n",
    "with the (quasi-exact) energies returned by scipy.sparse.linalg.eigsh."
   ]
  },
  {
   "cell_type": "code",
   "execution_count": 7,
   "metadata": {},
   "outputs": [
    {
     "name": "stdout",
     "output_type": "stream",
     "text": [
      "[-10.02501566 -10.02501566  -6.40332833  -6.38306387  -6.38306387\n",
      "  -6.34111208  -6.32478802  -6.32478802  -6.27750792  -6.27750792]\n",
      "\n",
      "[-10.02501566 -10.02501566  -6.40332833  -6.38306387  -6.38306387\n",
      "  -6.34111208  -6.32478802  -6.32478802  -6.32478802  -6.27750792]\n"
     ]
    }
   ],
   "source": [
    "T_true, vecs_true = lz.lanczos(initial_state, H, stabilize = True)\n",
    "\n",
    "\"\"\"\n",
    "Stabilize = True: makes sure that new psi state obtained is orthonormal to the previously obtained psi states,\n",
    "This is achieved with Gram-Schmidt orthonormalization.\n",
    "Theoretically this step should not be necessary as the state should already be orthonormal by costruction,\n",
    "however this makes sure that the basis obtained is orthonormal\n",
    "\"\"\"\n",
    "ten_smallest_eigenvalues_corrected = np.linalg.eigvalsh(T_true)[:10]\n",
    "print(ten_smallest_eigenvalues_corrected)\n",
    "\n",
    "print()\n",
    "\n",
    "ten_eigenvalues_Sparse = scipy.sparse.linalg.eigsh(H, k = 10, which = 'SA', return_eigenvectors=True)[0]\n",
    "print(ten_eigenvalues_Sparse)"
   ]
  },
  {
   "cell_type": "markdown",
   "metadata": {},
   "source": [
    "## c)\n",
    "Find the ground state |u0⟩ of T and use it to find the ground state |ψ0⟩ of H in the\n",
    "full basis. Check that the state you obtain is normalized, has the correct energy\n",
    "E0 = ⟨ψ0|H|ψ0⟩. Calculate the variance ⟨ψ0|H2|ψ0⟩ − ⟨ψ0|H|ψ0⟩2 to see if |ψ0⟩ is an\n",
    "eigenstate of H.\n",
    "Hint: Let V denote the matrix containing the vectors returned by lanczos() as\n",
    "columns, then V †HV = T Hence, if |u⟩ is an eigenvector of T , |ψ0⟩ := V |u0⟩ is an\n",
    "(approximate) eigenvector of H.\n"
   ]
  },
  {
   "cell_type": "code",
   "execution_count": 76,
   "metadata": {},
   "outputs": [
    {
     "name": "stdout",
     "output_type": "stream",
     "text": [
      "|ψ0⟩:  [ 7.97640282e-01  1.19243137e-15  1.10924476e-15 ... -2.87804836e-17\n",
      " -2.15336956e-17  8.94173100e-06]\n",
      "\n",
      "E0:  -23.40758298202161\n",
      "\n",
      "variance:  6.821210263296962e-13\n",
      "|ψ0⟩ is ground state\n"
     ]
    }
   ],
   "source": [
    "eigvalue, eigstates = np.linalg.eigh(T_true)\n",
    "u_zero = eigstates[:,0]\n",
    "#print(vecs_true)\n",
    "#print(np.shape(vecs_true))\n",
    "#print(np.shape(u_zero))\n",
    "V = np.transpose(vecs_true)\n",
    "groundstate = V @ u_zero\n",
    "print(\"|ψ0⟩: \", groundstate)\n",
    "print()\n",
    "\n",
    "E_0 = np.inner(np.conj(groundstate), H*groundstate)\n",
    "print(\"E0: \", E_0)\n",
    "print()\n",
    "\n",
    "var = np.inner(np.conj(groundstate), H*H*groundstate) - E_0**2\n",
    "print(\"variance: \", var)\n",
    "\n",
    "if np.abs(E_0 - ten_smallest_eigenvalues_corrected[0]) < 1e-12 and var < 1e-12:\n",
    "    print(\"|ψ0⟩ is ground state\")"
   ]
  },
  {
   "cell_type": "markdown",
   "metadata": {},
   "source": [
    "## d)\n",
    "Construct the state $ |ϕ_0⟩ = S^{+}_0 |ψ_0⟩ $\n",
    "and get the tridiagonal matrix T of a Lanczos\n",
    "iteration starting from this initial state. Here, $S^+_j = \\frac{1}{2} (σ_{x_j} + iσ_{y_j} ) $ labels the spin raising operator on site j.\n",
    "Hint: To construct $S^{+}_0$, take a look at lanczos.py again."
   ]
  },
  {
   "cell_type": "code",
   "execution_count": 77,
   "metadata": {},
   "outputs": [
    {
     "data": {
      "text/plain": [
       "array([[-20.61206805,   2.21196107,   0.        , ...,   0.        ,\n",
       "          0.        ,   0.        ],\n",
       "       [  2.21196107, -17.7553488 ,   2.86345604, ...,   0.        ,\n",
       "          0.        ,   0.        ],\n",
       "       [  0.        ,   2.86345604, -16.03310219, ...,   0.        ,\n",
       "          0.        ,   0.        ],\n",
       "       ...,\n",
       "       [  0.        ,   0.        ,   0.        , ...,  -0.72598844,\n",
       "          9.54816085,   0.        ],\n",
       "       [  0.        ,   0.        ,   0.        , ...,   9.54816085,\n",
       "         -3.0256632 ,  10.78501272],\n",
       "       [  0.        ,   0.        ,   0.        , ...,   0.        ,\n",
       "         10.78501272,  -2.80866501]])"
      ]
     },
     "execution_count": 77,
     "metadata": {},
     "output_type": "execute_result"
    }
   ],
   "source": [
    "Splus_0 = lz.singlesite_to_full(lz.Splus,0,L)\n",
    "phi_0 = Splus_0 * groundstate\n",
    "\n",
    "T_dynamic, vecs_dynamic = lz.lanczos(phi_0, H, stabilize = True)\n",
    "\n",
    "T_dynamic"
   ]
  },
  {
   "cell_type": "markdown",
   "metadata": {},
   "source": [
    "## e)\n",
    "\n",
    "Write a function which (given z and T ) evaluates the continued fractions of eq. (3)\n",
    "to calculate I.\n",
    "Hint: You can extract α and β from T using np.diag. Take care that we labeled $α_n$\n",
    "starting from n = 0 , while for βn we start from n = 1."
   ]
  },
  {
   "cell_type": "code",
   "execution_count": 94,
   "metadata": {},
   "outputs": [],
   "source": [
    "def get_I(z,T):\n",
    "    alpha = np.diag(T)\n",
    "    beta = np.diag(T,k=1)\n",
    "    # I have to calculate x_0 = det(z-T)_1 /det(z-T), and to do it I have to do it recursively and backwards, starting from the last calculation:\n",
    "    # x_0 = detD_N-1/detD_N-2\n",
    "    N = len(alpha)\n",
    "    x_0 = 1/(z-alpha[-2]-((beta[-1]**2)/(z-alpha[-1])))\n",
    "    for i in range(N-2,0,-1): #by counting properly it is clear that we have to repeat this process N-3+1= N-2 times\n",
    "        x_0 = 1/(z-alpha[i-1]-(beta[i]**2)*x_0)\n",
    "\n",
    "    return - x_0.imag * 1/np.pi\n",
    "\n",
    "\n",
    "I_example = get_I(1+E_0+1j*0.005,T_dynamic)"
   ]
  },
  {
   "cell_type": "markdown",
   "metadata": {},
   "source": [
    "## f)\n",
    "Plot $I(S^+_0 , ω)$ versus ω. Choose $z = ω + E_0 + iϵ$ for ω ∈ [−1, 10] and ϵ in the order\n",
    "of 0.001 ≲ ϵ ≲ 0.1. What is the influence of ϵ?\n",
    "Hint: There’s a good chance that the function calculating I from e) works with z\n",
    "being a numpy array with different ω values; this will lead to a faster evaluation\n",
    "than calling it for each ω separately."
   ]
  },
  {
   "cell_type": "code",
   "execution_count": 150,
   "metadata": {},
   "outputs": [
    {
     "data": {
      "text/plain": [
       "<matplotlib.legend.Legend at 0x146f02300>"
      ]
     },
     "execution_count": 150,
     "metadata": {},
     "output_type": "execute_result"
    },
    {
     "data": {
      "image/png": "[encoded data removed]",
      "text/plain": [
       "<Figure size 640x480 with 1 Axes>"
      ]
     },
     "metadata": {},
     "output_type": "display_data"
    }
   ],
   "source": [
    "epsilon = np.arange(0.001,0.1,0.01)\n",
    "w = np.arange(-1,10,0.1)\n",
    "\n",
    "z = []\n",
    "I = []\n",
    "\n",
    "for i in range(len(epsilon)):\n",
    "    z.append(w + E_0+ 1j*epsilon[i])\n",
    "    I.append(get_I(z[i],T_dynamic))\n",
    "    plt.plot(w,I[i], label = f\"ϵ = {epsilon[i]:.3f}\")\n",
    "plt.xlabel(\"ω\")\n",
    "plt.ylabel(\"I\")\n",
    "plt.legend()"
   ]
  },
  {
   "cell_type": "markdown",
   "metadata": {},
   "source": [
    "The smaller the epsilon the more peaked is I  "
   ]
  },
  {
   "cell_type": "markdown",
   "metadata": {},
   "source": [
    "## g)\n",
    "To get more physical insight, we can choose a momentum-dependent operator for $\\hat{O}$. Calculate $I(S^+_k , ω)$ for the k values compatible with the chosen L = 14, where $S^+_k$ is defined as\n",
    "$$S^+_k = \\frac{1}{\\sqrt{L}} \\sum^{L-1}_{j=0}{e^{ijk}S^+_j} \\hspace{3cm} (5)$$\n",
    "Create a 2D colorplot of $I(S^+_k , ω)$ with k on the x-axis and ω on the y-axis.\n",
    "\n",
    "Hint: To create the colorplot, you can use the function provided in lanczos.py.\n",
    "\n",
    "*The compatible k values are given by the periodic boundary conditions of the lattice: $k \\in [-\\frac{\\pi}{a},\\frac{\\pi}{a}] \\; \\leftrightarrow k = \\frac{s 2\\pi}{a}$ with $s = -\\frac{L}{2},-\\frac{L}{2} +1, ..., \\frac{L}{2} $*\n",
    "\n",
    "*Here actually a = 1, and we can also choose $k = 0,...,2\\pi \\frac{L-1}{L}$*\n"
   ]
  },
  {
   "cell_type": "code",
   "execution_count": 140,
   "metadata": {},
   "outputs": [],
   "source": [
    "k = np.arange(0,2*np.pi, 2*np.pi/L)\n",
    "\n",
    "S_moment= []\n",
    "I_moment = []\n",
    "\n",
    "for i in range(L):\n",
    "  S = 0\n",
    "  for l in range(L):\n",
    "    S += np.exp(1j*l*k[i])*lz.singlesite_to_full(lz.Splus,l,L)\n",
    "  S = S/np.sqrt(L)\n",
    "  S_moment.append(S)\n",
    "  phi_moment = S * groundstate\n",
    "  T_moment = lz.lanczos(phi_moment, H, stabilize = True)[0]\n",
    "  I_moment.append(get_I(z[0],T_moment))\n",
    "\n",
    "\n",
    "#we are interested in z[0] (the one with epsilon = 0.001, omega from -1 to 10)\n",
    "    "
   ]
  },
  {
   "cell_type": "code",
   "execution_count": 132,
   "metadata": {},
   "outputs": [
    {
     "data": {
      "text/plain": [
       "8.943175749848853e-05"
      ]
     },
     "execution_count": 132,
     "metadata": {},
     "output_type": "execute_result"
    }
   ],
   "source": [
    "I_moment[0][2]\n",
    "#first index referred to k, second to w"
   ]
  },
  {
   "cell_type": "code",
   "execution_count": 154,
   "metadata": {},
   "outputs": [
    {
     "name": "stderr",
     "output_type": "stream",
     "text": [
      "<>:3: SyntaxWarning: invalid escape sequence '\\o'\n",
      "<>:3: SyntaxWarning: invalid escape sequence '\\o'\n",
      "/var/folders/j2/38n83hh910154cw8rylx28rh0000gq/T/ipykernel_16341/3115004514.py:3: SyntaxWarning: invalid escape sequence '\\o'\n",
      "  plt.ylabel(\"$\\omega $\")\n"
     ]
    },
    {
     "data": {
      "text/plain": [
       "Text(0.5, 1.0, '$I(S^+_k , ω)$')"
      ]
     },
     "execution_count": 154,
     "metadata": {},
     "output_type": "execute_result"
    },
    {
     "data": {
      "image/png": "[encoded data removed]",
      "text/plain": [
       "<Figure size 640x480 with 1 Axes>"
      ]
     },
     "metadata": {},
     "output_type": "display_data"
    }
   ],
   "source": [
    "lz.colorplot(k,w,I_moment)\n",
    "plt.xlabel(\"k\")\n",
    "plt.ylabel(\"$\\omega $\")\n",
    "plt.title(\"$I(S^+_k , ω)$\")"
   ]
  }
 ],
 "metadata": {
  "kernelspec": {
   "display_name": "Python 3",
   "language": "python",
   "name": "python3"
  },
  "language_info": {
   "codemirror_mode": {
    "name": "ipython",
    "version": 3
   },
   "file_extension": ".py",
   "mimetype": "text/x-python",
   "name": "python",
   "nbconvert_exporter": "python",
   "pygments_lexer": "ipython3",
   "version": "3.1.-1"
  }
 },
 "nbformat": 4,
 "nbformat_minor": 2
}

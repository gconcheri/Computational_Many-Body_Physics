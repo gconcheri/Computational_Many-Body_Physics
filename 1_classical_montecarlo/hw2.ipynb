{
 "cells": [
  {
   "cell_type": "code",
   "execution_count": 2,
   "metadata": {},
   "outputs": [],
   "source": [
    "import matplotlib as pt\n",
    "import numpy as np"
   ]
  },
  {
   "cell_type": "code",
   "execution_count": 27,
   "metadata": {},
   "outputs": [
    {
     "name": "stdout",
     "output_type": "stream",
     "text": [
      "[[0. 1.]\n",
      " [1. 2.]\n",
      " [2. 0.]\n",
      " [3. 4.]\n",
      " [4. 5.]\n",
      " [5. 3.]\n",
      " [6. 7.]\n",
      " [7. 8.]\n",
      " [8. 6.]\n",
      " [0. 3.]\n",
      " [1. 4.]\n",
      " [2. 5.]\n",
      " [3. 6.]\n",
      " [4. 7.]\n",
      " [5. 8.]\n",
      " [6. 0.]\n",
      " [7. 1.]\n",
      " [8. 2.]]\n"
     ]
    }
   ],
   "source": [
    "def n(x,y,Ly,Lx):\n",
    "    N = Lx*Ly\n",
    "    return (x*Ly + y%Ly)%N\n",
    "\n",
    "def xy(n,Ly):\n",
    "    x = n // Ly\n",
    "    y = n % Ly\n",
    "    return x, y \n",
    "\n",
    "def bond_indices(Lx,Ly):\n",
    "    N = Lx*Ly\n",
    "    A = np.empty((2*N,2))\n",
    "    for i in range(Lx):\n",
    "        for j in range(Ly):\n",
    "            n0 = n(i,j,Ly, Lx)\n",
    "            ny = n(i,j+1,Ly, Lx)\n",
    "            nx = n(i+1,j,Ly, Lx)\n",
    "            A[i*Ly+j]= [n0,ny]\n",
    "            A[N+i*Ly+j]= [n0,nx]\n",
    "    return A\n",
    "\n",
    "print(bond_indices(3,3))\n",
    "\n",
    "\n",
    "\n",
    "#n = n(x, y) = x · Ly + y = 0, 1, · · · , N − 1\n"
   ]
  },
  {
   "cell_type": "code",
   "execution_count": 51,
   "metadata": {},
   "outputs": [],
   "source": [
    "def prepare_system(Lx,Ly):\n",
    "    \"\"\"Initialize the system.\"\"\"\n",
    "    system0 = 2 * (0.5 - np.random.randint(0, 2, size=(Lx,Ly)))\n",
    "    system1 = []\n",
    "    for i in range(Lx):\n",
    "        for j in range(Ly):\n",
    "            system1.append(system0[i,j])\n",
    "    return np.array(system1)"
   ]
  },
  {
   "cell_type": "code",
   "execution_count": 63,
   "metadata": {},
   "outputs": [
    {
     "data": {
      "text/plain": [
       "array([0, 1, 1, 1, 0, 1, 0, 0, 0, 0, 0, 0, 0, 1, 0, 0, 1, 0, 1, 0, 0, 0,\n",
       "       1, 0, 0, 0, 0, 0, 0, 0, 0, 1, 1, 1, 0, 0, 0, 0, 1, 0, 1, 1, 0, 0,\n",
       "       0, 0, 0, 0, 0, 1, 0, 1, 0, 0, 0, 1, 1, 0, 0, 1, 0, 1, 1, 1, 0, 0,\n",
       "       1, 1, 0, 0, 0, 0, 1, 0, 0, 0, 0, 0, 1, 0, 0, 0, 1, 1, 1, 0, 1, 0,\n",
       "       0, 0, 0, 0, 0, 0, 1, 0, 1, 0, 0, 1, 1, 0, 0, 0, 0, 0, 1, 0, 0, 1,\n",
       "       1, 1, 1, 0, 1, 1, 1, 0, 0, 1, 0, 0, 1, 1, 0, 0, 0, 0, 0, 1, 1, 1,\n",
       "       1, 1, 0, 0, 0, 0, 0, 1, 1, 0, 0, 1, 1, 1, 0, 1, 1, 1, 1, 0, 0, 1,\n",
       "       0, 0, 1, 1, 0, 0, 0, 1, 0, 0, 1, 0, 1, 0, 1, 0, 0, 0, 0, 0, 1, 0,\n",
       "       0, 0, 1, 0, 0, 0, 0, 0, 0, 0, 0, 0, 0, 1, 1, 0, 0, 1, 0, 1, 0, 1,\n",
       "       1, 0])"
      ]
     },
     "execution_count": 63,
     "metadata": {},
     "output_type": "execute_result"
    }
   ],
   "source": [
    "Lx = 10\n",
    "Ly = 10\n",
    "system = prepare_system(Lx,Ly)\n",
    "bond = bond_indices(Lx,Ly)\n",
    "\n",
    "def update_bond_config(spin_config, bond_indices, J, T):\n",
    "   W = [] \n",
    "   for i in range(int(bond_indices.shape[0])):\n",
    "      if spin_config[int(bond_indices[i,0])]*spin_config[int(bond_indices[i,1])] > 0:\n",
    "         if np.random.rand() < np.exp(-2*J/T):\n",
    "            W.append(0)\n",
    "         else:\n",
    "            W.append(1)\n",
    "      else:\n",
    "            W.append(0)\n",
    "   return np.array(W)\n",
    "\n",
    "bond_config = update_bond_config(system,bond,1,1)\n",
    "  "
   ]
  },
  {
   "cell_type": "code",
   "execution_count": 65,
   "metadata": {},
   "outputs": [],
   "source": [
    "import scipy \n",
    "matrix = scipy.sparse.csr_matrix((bond_config, (bond[:, 0], bond[:, 1])), shape=(Lx*Ly, Lx*Ly))\n"
   ]
  },
  {
   "cell_type": "code",
   "execution_count": 62,
   "metadata": {},
   "outputs": [
    {
     "name": "stdout",
     "output_type": "stream",
     "text": [
      "Labels of vertices: [0 0 0 1]\n",
      "Number of connected components: 2\n"
     ]
    }
   ],
   "source": [
    "import scipy.sparse as sp\n",
    "from scipy.sparse.csgraph import connected_components\n",
    "\n",
    "# Define the adjacency matrix of the graph\n",
    "adjacency_matrix = sp.csr_matrix([[0, 1, 0, 0],\n",
    "                                  [1, 0, 1, 0],\n",
    "                                  [0, 1, 0, 0],\n",
    "                                  [0, 0, 0, 0]])\n",
    "\n",
    "# Find the connected components\n",
    "num_components, labels = connected_components(adjacency_matrix)\n",
    "\n",
    "print(\"Labels of vertices:\", labels)\n",
    "print(\"Number of connected components:\", num_components)\n",
    "\n",
    "#number of components = number of clusters!\n",
    "#label rappresenta l'array "
   ]
  }
 ],
 "metadata": {
  "kernelspec": {
   "display_name": "Python 3",
   "language": "python",
   "name": "python3"
  },
  "language_info": {
   "codemirror_mode": {
    "name": "ipython",
    "version": 3
   },
   "file_extension": ".py",
   "mimetype": "text/x-python",
   "name": "python",
   "nbconvert_exporter": "python",
   "pygments_lexer": "ipython3",
   "version": "3.12.3"
  }
 },
 "nbformat": 4,
 "nbformat_minor": 2
}

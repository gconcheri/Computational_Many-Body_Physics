{
 "cells": [
  {
   "cell_type": "code",
   "execution_count": 2,
   "metadata": {},
   "outputs": [],
   "source": [
    "import numpy as np\n",
    "import math as mt\n",
    "import matplotlib.pyplot as plt"
   ]
  },
  {
   "cell_type": "markdown",
   "metadata": {},
   "source": [
    "Exercise 1.1 - POINT A"
   ]
  },
  {
   "cell_type": "code",
   "execution_count": 3,
   "metadata": {},
   "outputs": [
    {
     "data": {
      "text/plain": [
       "(3.18, 0.7853981633974483)"
      ]
     },
     "execution_count": 3,
     "metadata": {},
     "output_type": "execute_result"
    }
   ],
   "source": [
    "def square(N,r):\n",
    "    v = np.empty((N,2))\n",
    "    ratio1 = 0\n",
    "    ratio2 = 0\n",
    "    if r < 1:\n",
    "        #print(\"successful choice of r\")\n",
    "        i=0\n",
    "        j=0\n",
    "        while i < N:\n",
    "            v[i] = np.random.rand(2)\n",
    "            v[i,0] = v[i,0] - 0.5\n",
    "            v[i,1] = v[i,1] - 0.5\n",
    "            if mt.sqrt(v[i,0]**2 + v[i,1]**2) < r:\n",
    "                j+=1\n",
    "            else:\n",
    "                j=j\n",
    "            i+=1\n",
    "        ratio1 = j/(N*r**2)\n",
    "        ratio2 = np.pi * (r**2)\n",
    "        #if abs((ratio1-ratio2)/ratio1) < 0.05:\n",
    "        #    print(\"the 2 ratios are close\")\n",
    "        #else:\n",
    "        #    print(\"the 2 ratios are not close\")\n",
    "\n",
    "    else:\n",
    "        print(\"choose r<1\")\n",
    "    return (ratio1, ratio2)\n",
    "square(1000,0.5)\n"
   ]
  },
  {
   "cell_type": "markdown",
   "metadata": {},
   "source": [
    "Point B"
   ]
  },
  {
   "cell_type": "code",
   "execution_count": 13,
   "metadata": {},
   "outputs": [
    {
     "data": {
      "text/plain": [
       "0.03225599999999998"
      ]
     },
     "execution_count": 13,
     "metadata": {},
     "output_type": "execute_result"
    }
   ],
   "source": [
    "def var_square(N):\n",
    "    i=0\n",
    "    a=np.empty((1,10))\n",
    "    while i < 10:\n",
    "        a[0,i] = square(N,0.5)[0]\n",
    "        i+=1\n",
    "    var = np.var(a)\n",
    "    return var\n",
    "var_square(50)"
   ]
  },
  {
   "cell_type": "markdown",
   "metadata": {},
   "source": [
    "Point C"
   ]
  },
  {
   "cell_type": "code",
   "execution_count": 29,
   "metadata": {},
   "outputs": [
    {
     "name": "stdout",
     "output_type": "stream",
     "text": [
      "daje\n",
      "daje\n",
      "daje\n",
      "daje\n",
      "daje\n"
     ]
    },
    {
     "data": {
      "text/plain": [
       "[<matplotlib.lines.Line2D at 0x10da0af00>]"
      ]
     },
     "execution_count": 29,
     "metadata": {},
     "output_type": "execute_result"
    },
    {
     "data": {
      "image/png": "[encoded data removed]",
      "text/plain": [
       "<Figure size 640x480 with 1 Axes>"
      ]
     },
     "metadata": {},
     "output_type": "display_data"
    }
   ],
   "source": [
    "x = np.array(np.logspace(1, 5, 20, dtype=int))\n",
    "print(\"daje\")\n",
    "vec_y = np.vectorize(var_square)\n",
    "print(\"daje\")\n",
    "def f_inv(x):\n",
    "    return 0.1/x\n",
    "vec_yinvsq = np.vectorize(f_inv)\n",
    "print(\"daje\")\n",
    "y = vec_y(x)\n",
    "print(\"daje\")\n",
    "yy = vec_yinvsq(x)\n",
    "print(\"daje\")\n",
    "plt.scatter(x,y)\n",
    "plt.plot(x,yy)\n",
    "plt.semilogy(10)\n",
    "plt.semilogx(10)\n",
    "#error is of the order of 1/N"
   ]
  },
  {
   "cell_type": "markdown",
   "metadata": {
    "vscode": {
     "languageId": "latex"
    }
   },
   "source": [
    "$z = \\log(y) \\\\$\n",
    "$x' = \\log(x) \\\\$ \n",
    "$ \\implies z(x') = \\log(y) = \\log(\\frac{1}{x}) = \\log(\\frac{1}{e^{x'}}) = \\log(e^{-x'}) = - x'$\n"
   ]
  },
  {
   "cell_type": "markdown",
   "metadata": {},
   "source": [
    "Point D"
   ]
  },
  {
   "cell_type": "code",
   "execution_count": 11,
   "metadata": {},
   "outputs": [
    {
     "data": {
      "text/plain": [
       "(0.00256, 0.00249039457019272)"
      ]
     },
     "execution_count": 11,
     "metadata": {},
     "output_type": "execute_result"
    }
   ],
   "source": [
    "def sum_of_squares(arr):\n",
    "    return sum([x ** 2 for x in arr])\n",
    "\n",
    "def vol_d_sphere(d, r):\n",
    "    return (mt.pi ** (d / 2)) / mt.gamma(d / 2 + 1) * (r ** d)\n",
    "\n",
    "def d_square(N,r,d):\n",
    "    v = np.empty((N,d))\n",
    "    r = r*(2**d)\n",
    "    ratio1 = 0.\n",
    "    ratio2 = 0.\n",
    "    if r < 2**d:\n",
    "        #print(\"successful choice of r\")\n",
    "        i=0\n",
    "        j=0\n",
    "        while i < N:\n",
    "            v[i] = np.random.rand(d)*(2**d)\n",
    "            v[i] = v[i] - (2**(d-1))\n",
    "            if mt.sqrt(sum_of_squares(v[i])) < r:\n",
    "                j+=1\n",
    "            else:\n",
    "                j=j\n",
    "            i+=1\n",
    "        ratio1 = (j/N)\n",
    "        ratio2 = ((vol_d_sphere(d,r))/((2**d)**d))\n",
    "        #if abs((ratio1-ratio2)/ratio1) < 0.05:\n",
    "        #    print(\"the 2 ratios are close\")\n",
    "        #else:\n",
    "        #    print(\"the 2 ratios are not close\")\n",
    "    else:\n",
    "        print(\"choose r<2^d\")\n",
    "    return (ratio1, ratio2)\n",
    "d_square(100000,0.5,10)\n"
   ]
  },
  {
   "cell_type": "code",
   "execution_count": 230,
   "metadata": {},
   "outputs": [
    {
     "data": {
      "text/plain": [
       "4.5999999999999994e-07"
      ]
     },
     "execution_count": 230,
     "metadata": {},
     "output_type": "execute_result"
    }
   ],
   "source": [
    "def var_dsquare(N):\n",
    "    i=0\n",
    "    a=np.empty((1,10))\n",
    "    while i < 10:\n",
    "        a[0,i] = d_square(N,0.5,10)[0]\n",
    "        i+=1\n",
    "    var = np.var(a)\n",
    "    return var\n",
    "var_dsquare(2000)"
   ]
  },
  {
   "cell_type": "code",
   "execution_count": 236,
   "metadata": {},
   "outputs": [
    {
     "data": {
      "text/plain": [
       "[<matplotlib.lines.Line2D at 0x11cb09670>]"
      ]
     },
     "execution_count": 236,
     "metadata": {},
     "output_type": "execute_result"
    },
    {
     "data": {
      "image/png": "[encoded data removed]",
      "text/plain": [
       "<Figure size 640x480 with 1 Axes>"
      ]
     },
     "metadata": {},
     "output_type": "display_data"
    }
   ],
   "source": [
    "x2 = np.array(np.linspace(100, 10000, 100,dtype=int)) #use logscale\n",
    "vec_y2 = np.vectorize(var_dsquare)\n",
    "y2 = vec_y2(x2)\n",
    "plt.plot(x2,y2)\n",
    "yy2 = vec_yinvsq(x2)\n",
    "plt.plot(x2,yy2)\n",
    "plt.semilogy(10)\n",
    "plt.semilogx(10)\n"
   ]
  },
  {
   "cell_type": "markdown",
   "metadata": {},
   "source": [
    "Exercise 1.2 Point A"
   ]
  },
  {
   "cell_type": "code",
   "execution_count": 239,
   "metadata": {},
   "outputs": [
    {
     "name": "stdout",
     "output_type": "stream",
     "text": [
      "0.5473603212401852\n"
     ]
    },
    {
     "data": {
      "text/plain": [
       "0.025870142396262414"
      ]
     },
     "execution_count": 239,
     "metadata": {},
     "output_type": "execute_result"
    }
   ],
   "source": [
    "def f_1(x):\n",
    "    return (np.exp(-x)/(1+(x-1)**2))\n",
    "\n",
    "def I(f,N,b):\n",
    "    vec_f = np.vectorize(f)\n",
    "    v = np.random.rand(N)*b\n",
    "    f_rand = vec_f(v)\n",
    "\n",
    "    return b * np.mean(f_rand)\n",
    "\n",
    "print(I(f_1,100,10))\n",
    "\n",
    "def err_I(f,N,b,m):\n",
    "    i=0\n",
    "    a=np.empty((1,m))\n",
    "\n",
    "    while i < m:\n",
    "        a[0,i] = I(f,N,b) \n",
    "        i+=1\n",
    "    var = np.var(a)\n",
    "    return var #scipy integrate to calculate exact value\n",
    "\n",
    "err_I(f_1,100,10,10)\n",
    "\n",
    "#error is about (1/N)^1/2"
   ]
  },
  {
   "cell_type": "markdown",
   "metadata": {},
   "source": [
    "Exercise 1.2 Point B"
   ]
  },
  {
   "cell_type": "code",
   "execution_count": 242,
   "metadata": {},
   "outputs": [
    {
     "data": {
      "text/plain": [
       "0.6938917147421682"
      ]
     },
     "execution_count": 242,
     "metadata": {},
     "output_type": "execute_result"
    }
   ],
   "source": [
    "def G(x): #by hand\n",
    "    return (1-np.exp(-1.46*x))\n",
    "\n",
    "#def G_inverse(u): \n",
    "    x=2\n",
    "    if u <= 1:\n",
    "        while G(x) < u:\n",
    "            x+=10\n",
    "        while G(x) >= u:\n",
    "                x-=0.001\n",
    "    else:\n",
    "         print(\"choose u<=1\")\n",
    "    return x\n",
    "\n",
    "def G_inverse(u):\n",
    "     return 1/1.46 * np.log(1/(1-u))\n",
    "\n",
    "def foverg(x):\n",
    "     return f_1(x)/(1.46*np.exp(-1.46*x))\n",
    "\n",
    "def Inew(N,b):\n",
    "    vec_f = np.vectorize(foverg)\n",
    "    w = np.random.rand(N)\n",
    "    vec_Ginv = np.vectorize(G_inverse)\n",
    "    v = vec_Ginv(w)\n",
    "    f_rand = vec_f(v)\n",
    "\n",
    "    return np.mean(f_rand) #non ci va messo b\n",
    "\n",
    "Inew(1000,10)"
   ]
  },
  {
   "cell_type": "markdown",
   "metadata": {},
   "source": [
    "Exercise 1.3 - Point A"
   ]
  },
  {
   "cell_type": "code",
   "execution_count": 247,
   "metadata": {},
   "outputs": [],
   "source": [
    "import metropolis"
   ]
  },
  {
   "cell_type": "code",
   "execution_count": 248,
   "metadata": {},
   "outputs": [
    {
     "name": "stdout",
     "output_type": "stream",
     "text": [
      "1.5 -193.068 [0.267756430222213, 0.07356370073982761]\n",
      "1.6 -194.032 [0.2611639187499946, 0.018630695632531634]\n",
      "1.7000000000000002 -189.78 [0.30464832110727336, 0.012051929911399677]\n",
      "1.8000000000000003 -185.724 [0.42103439506173534, 0.05118503571494475]\n",
      "1.9000000000000004 -178.872 [0.49724330637119396, 0.030231016772816262]\n",
      "2.0000000000000004 -179.068 [0.568774919999996, 0.039501347703094464]\n",
      "2.1000000000000005 -171.672 [0.8614654185941027, 0.11547515177361614]\n",
      "2.2000000000000006 -158.096 [1.0415501553719007, 0.08408391122776133]\n",
      "2.3000000000000007 -141.232 [1.0814158487712666, 0.08217434765229434]\n",
      "2.400000000000001 -132.356 [0.9939328472222229, 0.1258739650724936]\n",
      "2.500000000000001 -97.38 [0.9088679603199994, 0.12314775369597471]\n",
      "2.600000000000001 -101.176 [0.7865100284023663, 0.07563015230181216]\n",
      "2.700000000000001 -99.204 [0.699896248010974, 0.052191264473228714]\n",
      "2.800000000000001 -100.184 [0.5268490244897954, 0.05632051896558117]\n",
      "2.9000000000000012 -83.212 [0.49869598097502976, 0.0470704455744095]\n",
      "3.0000000000000013 -78.784 [0.41954695644444434, 0.021562526392608326]\n"
     ]
    },
    {
     "ename": "ValueError",
     "evalue": "x and y must have same first dimension, but have shapes (16,) and (1,)",
     "output_type": "error",
     "traceback": [
      "\u001b[0;31m---------------------------------------------------------------------------\u001b[0m",
      "\u001b[0;31mValueError\u001b[0m                                Traceback (most recent call last)",
      "File \u001b[0;32m~/Desktop/CompQMBP/tutorials-2024/1_classical_montecarlo/metropolis.py:85\u001b[0m\n\u001b[1;32m     83\u001b[0m C_list \u001b[38;5;241m=\u001b[39m np\u001b[38;5;241m.\u001b[39marray(C_list)\n\u001b[1;32m     84\u001b[0m plt\u001b[38;5;241m.\u001b[39merrorbar(T_range, C_list[:, \u001b[38;5;241m0\u001b[39m], C_list[:, \u001b[38;5;241m1\u001b[39m])\n\u001b[0;32m---> 85\u001b[0m \u001b[43mplt\u001b[49m\u001b[38;5;241;43m.\u001b[39;49m\u001b[43mplot\u001b[49m\u001b[43m(\u001b[49m\u001b[43mT_range\u001b[49m\u001b[43m,\u001b[49m\u001b[43m \u001b[49m\u001b[43mmean_E\u001b[49m\u001b[43m)\u001b[49m\n\u001b[1;32m     87\u001b[0m Tc \u001b[38;5;241m=\u001b[39m \u001b[38;5;241m2.\u001b[39m \u001b[38;5;241m/\u001b[39m np\u001b[38;5;241m.\u001b[39mlog(\u001b[38;5;241m1.\u001b[39m \u001b[38;5;241m+\u001b[39m np\u001b[38;5;241m.\u001b[39msqrt(\u001b[38;5;241m2\u001b[39m))\n\u001b[1;32m     88\u001b[0m \u001b[38;5;28mprint\u001b[39m(Tc)\n",
      "File \u001b[0;32m~/micromamba/envs/comp_phys/lib/python3.12/site-packages/matplotlib/pyplot.py:3590\u001b[0m, in \u001b[0;36mplot\u001b[0;34m(scalex, scaley, data, *args, **kwargs)\u001b[0m\n\u001b[1;32m   3582\u001b[0m \u001b[38;5;129m@_copy_docstring_and_deprecators\u001b[39m(Axes\u001b[38;5;241m.\u001b[39mplot)\n\u001b[1;32m   3583\u001b[0m \u001b[38;5;28;01mdef\u001b[39;00m \u001b[38;5;21mplot\u001b[39m(\n\u001b[1;32m   3584\u001b[0m     \u001b[38;5;241m*\u001b[39margs: \u001b[38;5;28mfloat\u001b[39m \u001b[38;5;241m|\u001b[39m ArrayLike \u001b[38;5;241m|\u001b[39m \u001b[38;5;28mstr\u001b[39m,\n\u001b[0;32m   (...)\u001b[0m\n\u001b[1;32m   3588\u001b[0m     \u001b[38;5;241m*\u001b[39m\u001b[38;5;241m*\u001b[39mkwargs,\n\u001b[1;32m   3589\u001b[0m ) \u001b[38;5;241m-\u001b[39m\u001b[38;5;241m>\u001b[39m \u001b[38;5;28mlist\u001b[39m[Line2D]:\n\u001b[0;32m-> 3590\u001b[0m     \u001b[38;5;28;01mreturn\u001b[39;00m \u001b[43mgca\u001b[49m\u001b[43m(\u001b[49m\u001b[43m)\u001b[49m\u001b[38;5;241;43m.\u001b[39;49m\u001b[43mplot\u001b[49m\u001b[43m(\u001b[49m\n\u001b[1;32m   3591\u001b[0m \u001b[43m        \u001b[49m\u001b[38;5;241;43m*\u001b[39;49m\u001b[43margs\u001b[49m\u001b[43m,\u001b[49m\n\u001b[1;32m   3592\u001b[0m \u001b[43m        \u001b[49m\u001b[43mscalex\u001b[49m\u001b[38;5;241;43m=\u001b[39;49m\u001b[43mscalex\u001b[49m\u001b[43m,\u001b[49m\n\u001b[1;32m   3593\u001b[0m \u001b[43m        \u001b[49m\u001b[43mscaley\u001b[49m\u001b[38;5;241;43m=\u001b[39;49m\u001b[43mscaley\u001b[49m\u001b[43m,\u001b[49m\n\u001b[1;32m   3594\u001b[0m \u001b[43m        \u001b[49m\u001b[38;5;241;43m*\u001b[39;49m\u001b[38;5;241;43m*\u001b[39;49m\u001b[43m(\u001b[49m\u001b[43m{\u001b[49m\u001b[38;5;124;43m\"\u001b[39;49m\u001b[38;5;124;43mdata\u001b[39;49m\u001b[38;5;124;43m\"\u001b[39;49m\u001b[43m:\u001b[49m\u001b[43m \u001b[49m\u001b[43mdata\u001b[49m\u001b[43m}\u001b[49m\u001b[43m \u001b[49m\u001b[38;5;28;43;01mif\u001b[39;49;00m\u001b[43m \u001b[49m\u001b[43mdata\u001b[49m\u001b[43m \u001b[49m\u001b[38;5;129;43;01mis\u001b[39;49;00m\u001b[43m \u001b[49m\u001b[38;5;129;43;01mnot\u001b[39;49;00m\u001b[43m \u001b[49m\u001b[38;5;28;43;01mNone\u001b[39;49;00m\u001b[43m \u001b[49m\u001b[38;5;28;43;01melse\u001b[39;49;00m\u001b[43m \u001b[49m\u001b[43m{\u001b[49m\u001b[43m}\u001b[49m\u001b[43m)\u001b[49m\u001b[43m,\u001b[49m\n\u001b[1;32m   3595\u001b[0m \u001b[43m        \u001b[49m\u001b[38;5;241;43m*\u001b[39;49m\u001b[38;5;241;43m*\u001b[39;49m\u001b[43mkwargs\u001b[49m\u001b[43m,\u001b[49m\n\u001b[1;32m   3596\u001b[0m \u001b[43m    \u001b[49m\u001b[43m)\u001b[49m\n",
      "File \u001b[0;32m~/micromamba/envs/comp_phys/lib/python3.12/site-packages/matplotlib/axes/_axes.py:1724\u001b[0m, in \u001b[0;36mAxes.plot\u001b[0;34m(self, scalex, scaley, data, *args, **kwargs)\u001b[0m\n\u001b[1;32m   1481\u001b[0m \u001b[38;5;250m\u001b[39m\u001b[38;5;124;03m\"\"\"\u001b[39;00m\n\u001b[1;32m   1482\u001b[0m \u001b[38;5;124;03mPlot y versus x as lines and/or markers.\u001b[39;00m\n\u001b[1;32m   1483\u001b[0m \n\u001b[0;32m   (...)\u001b[0m\n\u001b[1;32m   1721\u001b[0m \u001b[38;5;124;03m(``'green'``) or hex strings (``'#008000'``).\u001b[39;00m\n\u001b[1;32m   1722\u001b[0m \u001b[38;5;124;03m\"\"\"\u001b[39;00m\n\u001b[1;32m   1723\u001b[0m kwargs \u001b[38;5;241m=\u001b[39m cbook\u001b[38;5;241m.\u001b[39mnormalize_kwargs(kwargs, mlines\u001b[38;5;241m.\u001b[39mLine2D)\n\u001b[0;32m-> 1724\u001b[0m lines \u001b[38;5;241m=\u001b[39m [\u001b[38;5;241m*\u001b[39m\u001b[38;5;28mself\u001b[39m\u001b[38;5;241m.\u001b[39m_get_lines(\u001b[38;5;28mself\u001b[39m, \u001b[38;5;241m*\u001b[39margs, data\u001b[38;5;241m=\u001b[39mdata, \u001b[38;5;241m*\u001b[39m\u001b[38;5;241m*\u001b[39mkwargs)]\n\u001b[1;32m   1725\u001b[0m \u001b[38;5;28;01mfor\u001b[39;00m line \u001b[38;5;129;01min\u001b[39;00m lines:\n\u001b[1;32m   1726\u001b[0m     \u001b[38;5;28mself\u001b[39m\u001b[38;5;241m.\u001b[39madd_line(line)\n",
      "File \u001b[0;32m~/micromamba/envs/comp_phys/lib/python3.12/site-packages/matplotlib/axes/_base.py:303\u001b[0m, in \u001b[0;36m_process_plot_var_args.__call__\u001b[0;34m(self, axes, data, *args, **kwargs)\u001b[0m\n\u001b[1;32m    301\u001b[0m     this \u001b[38;5;241m+\u001b[39m\u001b[38;5;241m=\u001b[39m args[\u001b[38;5;241m0\u001b[39m],\n\u001b[1;32m    302\u001b[0m     args \u001b[38;5;241m=\u001b[39m args[\u001b[38;5;241m1\u001b[39m:]\n\u001b[0;32m--> 303\u001b[0m \u001b[38;5;28;01myield from\u001b[39;00m \u001b[38;5;28;43mself\u001b[39;49m\u001b[38;5;241;43m.\u001b[39;49m\u001b[43m_plot_args\u001b[49m\u001b[43m(\u001b[49m\n\u001b[1;32m    304\u001b[0m \u001b[43m    \u001b[49m\u001b[43maxes\u001b[49m\u001b[43m,\u001b[49m\u001b[43m \u001b[49m\u001b[43mthis\u001b[49m\u001b[43m,\u001b[49m\u001b[43m \u001b[49m\u001b[43mkwargs\u001b[49m\u001b[43m,\u001b[49m\u001b[43m \u001b[49m\u001b[43mambiguous_fmt_datakey\u001b[49m\u001b[38;5;241;43m=\u001b[39;49m\u001b[43mambiguous_fmt_datakey\u001b[49m\u001b[43m)\u001b[49m\n",
      "File \u001b[0;32m~/micromamba/envs/comp_phys/lib/python3.12/site-packages/matplotlib/axes/_base.py:499\u001b[0m, in \u001b[0;36m_process_plot_var_args._plot_args\u001b[0;34m(self, axes, tup, kwargs, return_kwargs, ambiguous_fmt_datakey)\u001b[0m\n\u001b[1;32m    496\u001b[0m     axes\u001b[38;5;241m.\u001b[39myaxis\u001b[38;5;241m.\u001b[39mupdate_units(y)\n\u001b[1;32m    498\u001b[0m \u001b[38;5;28;01mif\u001b[39;00m x\u001b[38;5;241m.\u001b[39mshape[\u001b[38;5;241m0\u001b[39m] \u001b[38;5;241m!=\u001b[39m y\u001b[38;5;241m.\u001b[39mshape[\u001b[38;5;241m0\u001b[39m]:\n\u001b[0;32m--> 499\u001b[0m     \u001b[38;5;28;01mraise\u001b[39;00m \u001b[38;5;167;01mValueError\u001b[39;00m(\u001b[38;5;124mf\u001b[39m\u001b[38;5;124m\"\u001b[39m\u001b[38;5;124mx and y must have same first dimension, but \u001b[39m\u001b[38;5;124m\"\u001b[39m\n\u001b[1;32m    500\u001b[0m                      \u001b[38;5;124mf\u001b[39m\u001b[38;5;124m\"\u001b[39m\u001b[38;5;124mhave shapes \u001b[39m\u001b[38;5;132;01m{\u001b[39;00mx\u001b[38;5;241m.\u001b[39mshape\u001b[38;5;132;01m}\u001b[39;00m\u001b[38;5;124m and \u001b[39m\u001b[38;5;132;01m{\u001b[39;00my\u001b[38;5;241m.\u001b[39mshape\u001b[38;5;132;01m}\u001b[39;00m\u001b[38;5;124m\"\u001b[39m)\n\u001b[1;32m    501\u001b[0m \u001b[38;5;28;01mif\u001b[39;00m x\u001b[38;5;241m.\u001b[39mndim \u001b[38;5;241m>\u001b[39m \u001b[38;5;241m2\u001b[39m \u001b[38;5;129;01mor\u001b[39;00m y\u001b[38;5;241m.\u001b[39mndim \u001b[38;5;241m>\u001b[39m \u001b[38;5;241m2\u001b[39m:\n\u001b[1;32m    502\u001b[0m     \u001b[38;5;28;01mraise\u001b[39;00m \u001b[38;5;167;01mValueError\u001b[39;00m(\u001b[38;5;124mf\u001b[39m\u001b[38;5;124m\"\u001b[39m\u001b[38;5;124mx and y can be no greater than 2D, but have \u001b[39m\u001b[38;5;124m\"\u001b[39m\n\u001b[1;32m    503\u001b[0m                      \u001b[38;5;124mf\u001b[39m\u001b[38;5;124m\"\u001b[39m\u001b[38;5;124mshapes \u001b[39m\u001b[38;5;132;01m{\u001b[39;00mx\u001b[38;5;241m.\u001b[39mshape\u001b[38;5;132;01m}\u001b[39;00m\u001b[38;5;124m and \u001b[39m\u001b[38;5;132;01m{\u001b[39;00my\u001b[38;5;241m.\u001b[39mshape\u001b[38;5;132;01m}\u001b[39;00m\u001b[38;5;124m\"\u001b[39m)\n",
      "\u001b[0;31mValueError\u001b[0m: x and y must have same first dimension, but have shapes (16,) and (1,)"
     ]
    },
    {
     "data": {
      "image/png": "[encoded data removed]",
      "text/plain": [
       "<Figure size 640x480 with 1 Axes>"
      ]
     },
     "metadata": {},
     "output_type": "display_data"
    }
   ],
   "source": [
    "# a)\n",
    "run metropolis.py"
   ]
  },
  {
   "cell_type": "markdown",
   "metadata": {},
   "source": [
    "The script plots the specific heat for a range of temperatures around the critical point Tc​. Note that the system is very small (4x4)"
   ]
  },
  {
   "cell_type": "code",
   "execution_count": null,
   "metadata": {},
   "outputs": [],
   "source": []
  }
 ],
 "metadata": {
  "kernelspec": {
   "display_name": "Python 3",
   "language": "python",
   "name": "python3"
  },
  "language_info": {
   "codemirror_mode": {
    "name": "ipython",
    "version": 3
   },
   "file_extension": ".py",
   "mimetype": "text/x-python",
   "name": "python",
   "nbconvert_exporter": "python",
   "pygments_lexer": "ipython3",
   "version": "3.12.3"
  }
 },
 "nbformat": 4,
 "nbformat_minor": 2
}

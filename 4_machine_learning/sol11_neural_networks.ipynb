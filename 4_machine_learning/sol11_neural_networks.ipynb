{
 "cells": [
  {
   "cell_type": "code",
   "execution_count": 1,
   "id": "eced44fc",
   "metadata": {},
   "outputs": [],
   "source": [
    "import numpy as np\n",
    "import matplotlib.pyplot as plt\n",
    "%matplotlib inline"
   ]
  },
  {
   "cell_type": "code",
   "execution_count": 2,
   "id": "b58f7d4d",
   "metadata": {},
   "outputs": [
    {
     "name": "stdout",
     "output_type": "stream",
     "text": [
      "number of different labels for the output: 10\n",
      "(10, 1)\n",
      "(784, 1)\n"
     ]
    }
   ],
   "source": [
    "import data_loader\n",
    "import network\n",
    "\n",
    "training_data, _, test_data = data_loader.load_data_wrapper()\n",
    "print(training_data[0][1].shape)\n",
    "print(test_data[0][0].shape)"
   ]
  },
  {
   "cell_type": "code",
   "execution_count": 3,
   "id": "a919a229",
   "metadata": {},
   "outputs": [
    {
     "name": "stderr",
     "output_type": "stream",
     "text": [
      "<ipython-input-3-9f0fcd499f8a>:5: MatplotlibDeprecationWarning: Passing the sharex parameter of subplots() positionally is deprecated since Matplotlib 3.3; the parameter will become keyword-only two minor releases later.\n",
      "  fig, axes = plt.subplots(3, 3, True, True, figsize=(10, 10))\n"
     ]
    },
    {
     "data": {
      "image/png": "[encoded data removed]",
      "text/plain": [
       "<Figure size 720x720 with 9 Axes>"
      ]
     },
     "metadata": {
      "needs_background": "light"
     },
     "output_type": "display_data"
    }
   ],
   "source": [
    "# a)\n",
    "# plot a few of the images in the test data\n",
    "L = 28\n",
    "img_label_data = test_data[:9] # first 9 images of the test_data\n",
    "fig, axes = plt.subplots(3, 3, True, True, figsize=(10, 10))\n",
    "for ((img, label), ax) in zip(img_label_data, axes.flatten()):\n",
    "    ax.imshow(np.reshape(img, [L, L]))\n",
    "    ax.set_title(\"label = \"+str(label))\n",
    "plt.show()"
   ]
  },
  {
   "cell_type": "code",
   "execution_count": 4,
   "id": "8d7881a0",
   "metadata": {},
   "outputs": [
    {
     "name": "stdout",
     "output_type": "stream",
     "text": [
      "img.shape = (784, 1)\n",
      "y.shape = (10, 1)\n"
     ]
    }
   ],
   "source": [
    "net = network.Network([784, 30, 10])  # (The network without working backpropag method!)\n",
    "img, desired_result = training_data[0]\n",
    "print(\"img.shape =\", img.shape)\n",
    "y = net.feedforward(img)\n",
    "print(\"y.shape =\", y.shape)"
   ]
  },
  {
   "cell_type": "code",
   "execution_count": 5,
   "id": "b43b8525",
   "metadata": {},
   "outputs": [
    {
     "name": "stdout",
     "output_type": "stream",
     "text": [
      "biases shape:  [(30, 1), (10, 1)]\n",
      "weights shape:  [(30, 784), (10, 30)]\n"
     ]
    }
   ],
   "source": [
    "print(\"biases shape: \", [b.shape for b in net.biases])\n",
    "print(\"weights shape: \", [w.shape for w in net.weights])"
   ]
  },
  {
   "cell_type": "code",
   "execution_count": 6,
   "id": "61c3f3f5",
   "metadata": {},
   "outputs": [],
   "source": [
    "# implement the backpropagation for the network, solution from the book.\n",
    "# full explanation: http://neuralnetworksanddeeplearning.com/chap2.html\n",
    "\n",
    "class Network(network.Network):\n",
    "\n",
    "    def backprop(self, x, y):\n",
    "        \"\"\"Return a tuple ``(nabla_b, nabla_w)`` representing the\n",
    "        gradient for the cost function C_x.  ``nabla_b`` and\n",
    "        ``nabla_w`` are layer-by-layer lists of numpy arrays, similar\n",
    "        to ``self.biases`` and ``self.weights``.\"\"\"\n",
    "        nabla_b = [np.zeros(b.shape) for b in self.biases]\n",
    "        nabla_w = [np.zeros(w.shape) for w in self.weights]\n",
    "        # feedforward\n",
    "        activation = x\n",
    "        activations = [x] # list to store all the activations, layer by layer\n",
    "        zs = [] # list to store all the z vectors, layer by layer\n",
    "        for b, w in zip(self.biases, self.weights):\n",
    "            z = np.dot(w, activation)+b\n",
    "            zs.append(z)\n",
    "            activation = network.sigmoid(z)\n",
    "            activations.append(activation)\n",
    "        # backward pass\n",
    "        delta = self.cost_derivative(activations[-1], y) * network.sigmoid_prime(zs[-1])\n",
    "        nabla_b[-1] = delta\n",
    "        nabla_w[-1] = np.dot(delta, activations[-2].transpose())\n",
    "        # Note that the variable l in the loop below is used a little\n",
    "        # differently to the notation in Chapter 2 of the book.  Here,\n",
    "        # l = 1 means the last layer of neurons, l = 2 is the\n",
    "        # second-last layer, and so on.  It's a renumbering of the\n",
    "        # scheme in the book, used here to take advantage of the fact\n",
    "        # that Python can use negative indices in lists.\n",
    "        for l in range(2, self.num_layers):\n",
    "            z = zs[-l]\n",
    "            sp = network.sigmoid_prime(z)\n",
    "            delta = np.dot(self.weights[-l+1].transpose(), delta) * sp\n",
    "            nabla_b[-l] = delta\n",
    "            nabla_w[-l] = np.dot(delta, activations[-l-1].transpose())\n",
    "        return (nabla_b, nabla_w)"
   ]
  },
  {
   "cell_type": "code",
   "execution_count": 7,
   "id": "4ba18685",
   "metadata": {},
   "outputs": [
    {
     "name": "stdout",
     "output_type": "stream",
     "text": [
      "Epoch  0:     8905 / 10000 = 89.0%\n",
      "Epoch  1:     9062 / 10000 = 90.6%\n",
      "Epoch  2:     9158 / 10000 = 91.6%\n",
      "Epoch  3:     9192 / 10000 = 91.9%\n",
      "Epoch  4:     9222 / 10000 = 92.2%\n",
      "Epoch  5:     9250 / 10000 = 92.5%\n",
      "Epoch  6:     9272 / 10000 = 92.7%\n",
      "Epoch  7:     9288 / 10000 = 92.9%\n",
      "Epoch  8:     9321 / 10000 = 93.2%\n",
      "Epoch  9:     9323 / 10000 = 93.2%\n",
      "Epoch  10:     9354 / 10000 = 93.5%\n",
      "Epoch  11:     9348 / 10000 = 93.5%\n",
      "Epoch  12:     9369 / 10000 = 93.7%\n",
      "Epoch  13:     9386 / 10000 = 93.9%\n",
      "Epoch  14:     9383 / 10000 = 93.8%\n"
     ]
    }
   ],
   "source": [
    "net = Network([784, 30, 10])\n",
    "net.SGD(training_data, 15, 64, 0.5, test_data=test_data)"
   ]
  },
  {
   "cell_type": "markdown",
   "id": "0b953b7a",
   "metadata": {},
   "source": [
    "There are various techniques to make the training more reliable, chapter 3 of the Nielsen's book talks about them.\n",
    "Yet, we have already seen the basic idea behind the neural networks (and machine learning in general): instead of designing an algorithm for a very specific task (like classifying handwritten digits), we generate a structure which can \"learn\" the\n",
    "algorithm from a lot of example data provided (so-called supervised learning). This approach is \"universal\" in the sense that it can be applied to a lot of different problems, and in many cases even yields better results than writing a \"code\" in the traditional sense, e.g. it is nearly impossible to write a code recognising handwritten digits from image data."
   ]
  },
  {
   "cell_type": "code",
   "execution_count": 8,
   "id": "4ca3b35e",
   "metadata": {},
   "outputs": [
    {
     "name": "stdout",
     "output_type": "stream",
     "text": [
      "Epoch  0:     9262 / 10000 = 92.6%\n",
      "Epoch  1:     9354 / 10000 = 93.5%\n",
      "Epoch  2:     9405 / 10000 = 94.0%\n",
      "Epoch  3:     9457 / 10000 = 94.6%\n",
      "Epoch  4:     9518 / 10000 = 95.2%\n",
      "Epoch  5:     9523 / 10000 = 95.2%\n",
      "Epoch  6:     9542 / 10000 = 95.4%\n",
      "Epoch  7:     9539 / 10000 = 95.4%\n",
      "Epoch  8:     9566 / 10000 = 95.7%\n",
      "Epoch  9:     9561 / 10000 = 95.6%\n",
      "Epoch  10:     9578 / 10000 = 95.8%\n",
      "Epoch  11:     9589 / 10000 = 95.9%\n",
      "Epoch  12:     9598 / 10000 = 96.0%\n",
      "Epoch  13:     9592 / 10000 = 95.9%\n",
      "Epoch  14:     9589 / 10000 = 95.9%\n"
     ]
    }
   ],
   "source": [
    "net = Network([784, 30, 10])\n",
    "net.SGD(training_data, 15, 10, 0.5, test_data=test_data) # smaller batch size"
   ]
  },
  {
   "cell_type": "markdown",
   "id": "9d9cd67e",
   "metadata": {},
   "source": [
    "### try again with a deeper network and more neurons"
   ]
  },
  {
   "cell_type": "code",
   "execution_count": 10,
   "id": "ffed3316",
   "metadata": {},
   "outputs": [
    {
     "name": "stdout",
     "output_type": "stream",
     "text": [
      "Epoch  0:     9249 / 10000 = 92.5%\n",
      "Epoch  1:     9448 / 10000 = 94.5%\n",
      "Epoch  2:     9498 / 10000 = 95.0%\n",
      "Epoch  3:     9552 / 10000 = 95.5%\n",
      "Epoch  4:     9592 / 10000 = 95.9%\n",
      "Epoch  5:     9603 / 10000 = 96.0%\n",
      "Epoch  6:     9643 / 10000 = 96.4%\n",
      "Epoch  7:     9665 / 10000 = 96.7%\n",
      "Epoch  8:     9672 / 10000 = 96.7%\n",
      "Epoch  9:     9671 / 10000 = 96.7%\n",
      "Epoch  10:     9663 / 10000 = 96.6%\n",
      "Epoch  11:     9675 / 10000 = 96.8%\n",
      "Epoch  12:     9678 / 10000 = 96.8%\n",
      "Epoch  13:     9704 / 10000 = 97.0%\n",
      "Epoch  14:     9683 / 10000 = 96.8%\n"
     ]
    }
   ],
   "source": [
    "net = Network([784, 50, 30, 10]) # (training takes a long time!)\n",
    "net.SGD(training_data, 15, 10, 0.5, test_data=test_data)"
   ]
  },
  {
   "cell_type": "markdown",
   "id": "347f4129",
   "metadata": {},
   "source": [
    "The result is quite good. We can reach an accuracy better than 95% for unseen data. For more information, you can search mnist and see different approaches, for example, https://www.kaggle.com/c/digit-recognizer/discussion/61480"
   ]
  },
  {
   "cell_type": "markdown",
   "id": "b092225c",
   "metadata": {},
   "source": [
    "# Training with Monte Carlo data\n",
    "### generate and load Monte carlo data"
   ]
  },
  {
   "cell_type": "code",
   "execution_count": 12,
   "id": "352f7e63",
   "metadata": {},
   "outputs": [
    {
     "name": "stdout",
     "output_type": "stream",
     "text": [
      "number of different labels for the output: 3\n"
     ]
    }
   ],
   "source": [
    "generate = False\n",
    "try:\n",
    "    training_data_ising, _, test_data_ising = data_loader.load_data_wrapper(\"mcIsing.pkl.gz\")\n",
    "except IOError: \n",
    "    # file not existent: need to generate data first\n",
    "    generate = True\n",
    "    \n",
    "if generate:\n",
    "    print(\"need to generate\")\n",
    "    import generate_mc_data\n",
    "    data = generate_mc_data.generate_data()\n",
    "    generate_mc_data.save_data(data, filename=\"mcIsing.pkl.gz\")\n",
    "    # retry loading\n",
    "    training_data_ising, _, test_data_ising = data_loader.load_data_wrapper(\"mcIsing.pkl.gz\")"
   ]
  },
  {
   "cell_type": "code",
   "execution_count": 13,
   "id": "a1743d89",
   "metadata": {},
   "outputs": [
    {
     "name": "stderr",
     "output_type": "stream",
     "text": [
      "<ipython-input-13-8bbfc079fb56>:4: MatplotlibDeprecationWarning: Passing the sharex parameter of subplots() positionally is deprecated since Matplotlib 3.3; the parameter will become keyword-only two minor releases later.\n",
      "  fig, axes = plt.subplots(3, 3, True, True, figsize=(10, 10))\n"
     ]
    },
    {
     "data": {
      "image/png": "[encoded data removed]",
      "text/plain": [
       "<Figure size 720x720 with 9 Axes>"
      ]
     },
     "metadata": {
      "needs_background": "light"
     },
     "output_type": "display_data"
    }
   ],
   "source": [
    "# plot a few of the images in the test data\n",
    "L = 28\n",
    "img_label_data = test_data_ising[:9]\n",
    "fig, axes = plt.subplots(3, 3, True, True, figsize=(10, 10))\n",
    "for ((img, label), ax) in zip(img_label_data, axes.flatten()):\n",
    "    ax.imshow(np.reshape(img, [L, L]))\n",
    "    ax.set_title(\"label = \"+str(label))\n",
    "plt.show()"
   ]
  },
  {
   "cell_type": "markdown",
   "id": "3017926b",
   "metadata": {},
   "source": [
    "### associate labels to temperatures\n",
    "|label|temp. T| phase| \n",
    "|---|----|---|\n",
    "|0    |3      |disordered|\n",
    "|1    |2.3    |close to critical, already ordered for the given system size|\n",
    "|2    |1.5    |ordered, few fluctuations|\n",
    "\n",
    "### train a network"
   ]
  },
  {
   "cell_type": "code",
   "execution_count": 14,
   "id": "358f9ea8",
   "metadata": {},
   "outputs": [
    {
     "name": "stdout",
     "output_type": "stream",
     "text": [
      "Epoch  0:     4525 / 6000 = 75.4%\n",
      "Epoch  1:     5101 / 6000 = 85.0%\n",
      "Epoch  2:     5430 / 6000 = 90.5%\n",
      "Epoch  3:     5529 / 6000 = 92.2%\n",
      "Epoch  4:     5364 / 6000 = 89.4%\n",
      "Epoch  5:     5564 / 6000 = 92.7%\n",
      "Epoch  6:     5619 / 6000 = 93.7%\n",
      "Epoch  7:     5399 / 6000 = 90.0%\n",
      "Epoch  8:     5588 / 6000 = 93.1%\n",
      "Epoch  9:     5586 / 6000 = 93.1%\n",
      "Epoch  10:     5591 / 6000 = 93.2%\n",
      "Epoch  11:     5575 / 6000 = 92.9%\n",
      "Epoch  12:     5603 / 6000 = 93.4%\n",
      "Epoch  13:     5610 / 6000 = 93.5%\n",
      "Epoch  14:     5587 / 6000 = 93.1%\n"
     ]
    }
   ],
   "source": [
    "net = Network([784, 30, 3])\n",
    "net.SGD(training_data_ising, 15, 10, 0.5, test_data=test_data_ising)"
   ]
  },
  {
   "cell_type": "markdown",
   "id": "a520001f",
   "metadata": {},
   "source": [
    "note that we come above 66%, i.e. we classify at least some images of each temperature correctly!"
   ]
  },
  {
   "cell_type": "code",
   "execution_count": 15,
   "id": "6eb32d4d",
   "metadata": {},
   "outputs": [
    {
     "name": "stdout",
     "output_type": "stream",
     "text": [
      "Epoch  0:     3003 / 6000 = 50.0%\n",
      "Epoch  1:     4008 / 6000 = 66.8%\n",
      "Epoch  2:     4391 / 6000 = 73.2%\n",
      "Epoch  3:     5055 / 6000 = 84.2%\n",
      "Epoch  4:     5164 / 6000 = 86.1%\n",
      "Epoch  5:     5458 / 6000 = 91.0%\n",
      "Epoch  6:     5559 / 6000 = 92.7%\n",
      "Epoch  7:     4834 / 6000 = 80.6%\n",
      "Epoch  8:     5489 / 6000 = 91.5%\n",
      "Epoch  9:     5449 / 6000 = 90.8%\n",
      "Epoch  0:     5580 / 6000 = 93.0%\n",
      "Epoch  1:     5578 / 6000 = 93.0%\n",
      "Epoch  2:     5561 / 6000 = 92.7%\n",
      "Epoch  3:     5550 / 6000 = 92.5%\n",
      "Epoch  4:     5559 / 6000 = 92.7%\n",
      "Epoch  5:     5564 / 6000 = 92.7%\n",
      "Epoch  6:     5561 / 6000 = 92.7%\n",
      "Epoch  7:     5566 / 6000 = 92.8%\n",
      "Epoch  8:     5560 / 6000 = 92.7%\n",
      "Epoch  9:     5563 / 6000 = 92.7%\n"
     ]
    }
   ],
   "source": [
    "net = Network([784, 10, 10, 10, 3])\n",
    "net.SGD(training_data_ising, 10, 30, 0.3, test_data=test_data_ising)\n",
    "net.SGD(training_data_ising, 10, 30, 0.03, test_data=test_data_ising)"
   ]
  },
  {
   "cell_type": "markdown",
   "id": "d745aeb3",
   "metadata": {},
   "source": [
    "a deeper network with the same number of neurons is significantly better!"
   ]
  },
  {
   "cell_type": "code",
   "execution_count": 16,
   "id": "36e3018b",
   "metadata": {},
   "outputs": [
    {
     "name": "stdout",
     "output_type": "stream",
     "text": [
      "Epoch  0:     4778 / 6000 = 79.6%\n",
      "Epoch  1:     5561 / 6000 = 92.7%\n",
      "Epoch  2:     5701 / 6000 = 95.0%\n",
      "Epoch  3:     5576 / 6000 = 92.9%\n",
      "Epoch  4:     5726 / 6000 = 95.4%\n",
      "Epoch  5:     5711 / 6000 = 95.2%\n",
      "Epoch  6:     5708 / 6000 = 95.1%\n",
      "Epoch  7:     5716 / 6000 = 95.3%\n",
      "Epoch  8:     5712 / 6000 = 95.2%\n",
      "Epoch  9:     5711 / 6000 = 95.2%\n",
      "Epoch  0:     5713 / 6000 = 95.2%\n",
      "Epoch  1:     5716 / 6000 = 95.3%\n",
      "Epoch  2:     5713 / 6000 = 95.2%\n",
      "Epoch  3:     5711 / 6000 = 95.2%\n",
      "Epoch  4:     5713 / 6000 = 95.2%\n",
      "Epoch  5:     5712 / 6000 = 95.2%\n",
      "Epoch  6:     5711 / 6000 = 95.2%\n",
      "Epoch  7:     5712 / 6000 = 95.2%\n",
      "Epoch  8:     5713 / 6000 = 95.2%\n",
      "Epoch  9:     5712 / 6000 = 95.2%\n"
     ]
    }
   ],
   "source": [
    "net = Network([784, 50, 30, 20, 3]) # and maybe more neurons?\n",
    "net.SGD(training_data_ising, 10, 30, 0.3, test_data=test_data_ising)\n",
    "net.SGD(training_data_ising, 10, 30, 0.03, test_data=test_data_ising)"
   ]
  },
  {
   "cell_type": "markdown",
   "id": "60be5dfc",
   "metadata": {},
   "source": [
    "## Bonus: can we distinguish more temperatures?\n"
   ]
  },
  {
   "cell_type": "code",
   "execution_count": 18,
   "id": "eea9dafb",
   "metadata": {},
   "outputs": [
    {
     "name": "stdout",
     "output_type": "stream",
     "text": [
      "generate data for T= 3.000\n",
      "generate data for T= 2.500\n",
      "generate data for T= 2.000\n",
      "generate data for T= 1.500\n",
      "number of different labels for the output: 4\n"
     ]
    }
   ],
   "source": [
    "import generate_mc_data\n",
    "temps = [3., 2.5, 2.0, 1.5]\n",
    "data = generate_mc_data.generate_data(temps=temps, N_training=5000)\n",
    "train_mc_moreT, _, test_mc_more_T = data_loader.load_data_wrapper(data)"
   ]
  },
  {
   "cell_type": "code",
   "execution_count": 19,
   "id": "3dbab3a8",
   "metadata": {},
   "outputs": [
    {
     "name": "stdout",
     "output_type": "stream",
     "text": [
      "Epoch  0:     2364 / 4000 = 59.1%\n",
      "Epoch  1:     2143 / 4000 = 53.6%\n",
      "Epoch  2:     2372 / 4000 = 59.3%\n",
      "Epoch  3:     2645 / 4000 = 66.1%\n",
      "Epoch  4:     2617 / 4000 = 65.4%\n",
      "Epoch  5:     3061 / 4000 = 76.5%\n",
      "Epoch  6:     2711 / 4000 = 67.8%\n",
      "Epoch  7:     2969 / 4000 = 74.2%\n",
      "Epoch  8:     3069 / 4000 = 76.7%\n",
      "Epoch  9:     3103 / 4000 = 77.6%\n",
      "Epoch  0:     3039 / 4000 = 76.0%\n",
      "Epoch  1:     3070 / 4000 = 76.8%\n",
      "Epoch  2:     3102 / 4000 = 77.5%\n",
      "Epoch  3:     3054 / 4000 = 76.3%\n",
      "Epoch  4:     3086 / 4000 = 77.2%\n",
      "Epoch  5:     3135 / 4000 = 78.4%\n",
      "Epoch  6:     3112 / 4000 = 77.8%\n",
      "Epoch  7:     3082 / 4000 = 77.0%\n",
      "Epoch  8:     3072 / 4000 = 76.8%\n",
      "Epoch  9:     3103 / 4000 = 77.6%\n"
     ]
    }
   ],
   "source": [
    "net = Network([784, 50, 30, len(temps)]) # higher number of neurons & deep!\n",
    "net.SGD(train_mc_moreT, 10, 10, 0.2, test_data=test_mc_more_T)\n",
    "net.SGD(train_mc_moreT, 10, 10, 0.02, test_data=test_mc_more_T)"
   ]
  },
  {
   "cell_type": "code",
   "execution_count": 20,
   "id": "13085dec",
   "metadata": {},
   "outputs": [
    {
     "name": "stderr",
     "output_type": "stream",
     "text": [
      "<ipython-input-20-57ebd4a13d24>:4: MatplotlibDeprecationWarning: Passing the sharex parameter of subplots() positionally is deprecated since Matplotlib 3.3; the parameter will become keyword-only two minor releases later.\n",
      "  fig, axes = plt.subplots(3, 3, True, True, figsize=(10, 10))\n"
     ]
    },
    {
     "data": {
      "image/png": "[encoded data removed]",
      "text/plain": [
       "<Figure size 720x720 with 9 Axes>"
      ]
     },
     "metadata": {
      "needs_background": "light"
     },
     "output_type": "display_data"
    }
   ],
   "source": [
    "# plot a few of the images in the test data along with the output of the network\n",
    "L = 28\n",
    "img_label_data = test_mc_more_T[215:215+9] #some of the images\n",
    "fig, axes = plt.subplots(3, 3, True, True, figsize=(10, 10))\n",
    "for ((img, label), ax) in zip(img_label_data, axes.flatten()):\n",
    "    ax.imshow(np.reshape(img, [L, L]))\n",
    "    predict = np.argmax(net.feedforward(img)) # check what the network predicts\n",
    "    ax.set_title(\"T={T:.1f}, predict={predict:.1f}\".format(T=temps[label], predict=temps[predict]))\n",
    "plt.show()"
   ]
  },
  {
   "cell_type": "markdown",
   "id": "1ccdf5a2",
   "metadata": {},
   "source": [
    "## interpretation\n",
    "It's very hard to differentiate between T=2.5 and T=3.: both are essentially unordered (magnetization ~= 0), and can only be distinguished from the correlations. This is hard to do for a 28x28 image - it might work better for larger systems. \n",
    "We don't expect that the net can learn to distinguish all of them, since sometimes , the T=3. Monte Carlo simulation produces images which are also highly likely at T=2.5 and vice verca - their distributions have overlap.\n",
    "The images of T=1.5 and T=2.0 also might look quite similar, right?\n",
    "Hence, achieving a correct classification of more than 3/4=75% is already quite remarkable!"
   ]
  },
  {
   "cell_type": "code",
   "execution_count": null,
   "id": "cb0dcfb6",
   "metadata": {},
   "outputs": [],
   "source": []
  }
 ],
 "metadata": {
  "kernelspec": {
   "display_name": "Python 3",
   "language": "python",
   "name": "python3"
  },
  "language_info": {
   "codemirror_mode": {
    "name": "ipython",
    "version": 3
   },
   "file_extension": ".py",
   "mimetype": "text/x-python",
   "name": "python",
   "nbconvert_exporter": "python",
   "pygments_lexer": "ipython3",
   "version": "3.9.6"
  }
 },
 "nbformat": 4,
 "nbformat_minor": 5
}

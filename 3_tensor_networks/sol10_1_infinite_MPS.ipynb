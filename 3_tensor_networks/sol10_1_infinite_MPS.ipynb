{
 "cells": [
  {
   "cell_type": "code",
   "execution_count": 1,
   "metadata": {
    "id": "oNIRKDxlBlrT"
   },
   "outputs": [],
   "source": [
    "import numpy as np\n",
    "import scipy.sparse.linalg\n",
    "import matplotlib.pyplot as plt\n",
    "%matplotlib inline\n",
    "\n",
    "import tfi_exact # for later comparison"
   ]
  },
  {
   "cell_type": "code",
   "execution_count": 2,
   "metadata": {
    "id": "8xVguyfqBlrV"
   },
   "outputs": [],
   "source": [
    "import a_mps\n",
    "import b_model\n",
    "import c_tebd"
   ]
  },
  {
   "cell_type": "code",
   "execution_count": 3,
   "metadata": {
    "id": "M-ohRv7dBlrW"
   },
   "outputs": [],
   "source": [
    "# (changes compared to previous definitions are marked with comments)\n",
    "# adjustments for a_mps\n",
    "\n",
    "class InfiniteMPS(a_mps.MPS):\n",
    "    \"\"\"Represents an uniform (infinite) MPS.\"\"\"\n",
    "    \n",
    "    def get_theta2(self, i):\n",
    "        \"\"\"Calculate effective two-site wave function on sites i,j=(i+1) in mixed canonical form.\n",
    "\n",
    "        The returned array has legs ``vL, i, j, vR``.\"\"\"\n",
    "        j = (i + 1) % self.L  # <- changed here\n",
    "        return np.tensordot(self.get_theta1(i), self.Bs[j], [2, 0])  # vL i [vR], [vL] j vR\n",
    "    \n",
    "    def get_chi(self):\n",
    "        \"\"\"Return bond dimensions.\"\"\"\n",
    "        return [self.Bs[i].shape[2] for i in range(self.L)] # <- changed the argument of range(...)\n",
    "    \n",
    "    def bond_expectation_value(self, op):\n",
    "        \"\"\"Calculate expectation values of a local operator at each bond.\"\"\"\n",
    "        result = []\n",
    "        for i in range(self.L):  # <- changed here\n",
    "            theta = self.get_theta2(i)  # vL i j vR\n",
    "            op_theta = np.tensordot(op[i], theta, axes=[[2, 3], [1, 2]])\n",
    "            # i j [i*] [j*], vL [i] [j] vR\n",
    "            result.append(np.tensordot(theta.conj(), op_theta, [[0, 1, 2, 3], [2, 0, 1, 3]]))\n",
    "            # [vL*] [i*] [j*] [vR*], [i] [j] [vL] [vR]\n",
    "        return np.real_if_close(result)\n",
    "    \n",
    "    def entanglement_entropy(self):\n",
    "        \"\"\"Return the (von-Neumann) entanglement entropy for a bipartition at any of the bonds.\"\"\"\n",
    "        result = []\n",
    "        for i in range(1, self.L+1):  # <- changed here\n",
    "            # Note: Self.Ss[i] is left of self.Bs[i], while we consider bond \"i\" in bond_expectation_value and for the\n",
    "            # updates to be right of site i, therefore we start i with 1 and take i % L.\n",
    "            S = self.Ss[i % self.L].copy()  # <- changed here\n",
    "            S[S < 1.e-20] = 0.  # 0*log(0) should give 0; avoid warning or NaN.\n",
    "            S2 = S * S\n",
    "            assert abs(np.linalg.norm(S) - 1.) < 1.e-14\n",
    "            result.append(-np.sum(S2 * np.log(S2)))\n",
    "        return np.array(result)\n",
    "    \n",
    "def init_infinite_spinup_MPS(L=2):\n",
    "    \"\"\"Return a product state with all spins up as an MPS\"\"\"\n",
    "    B = np.zeros([1, 2, 1], np.float)\n",
    "    B[0, 0, 0] = 1.\n",
    "    S = np.ones([1], np.float)\n",
    "    Bs = [B.copy() for i in range(L)]\n",
    "    Ss = [S.copy() for i in range(L)]\n",
    "    return InfiniteMPS(Bs, Ss)"
   ]
  },
  {
   "cell_type": "code",
   "execution_count": null,
   "metadata": {},
   "outputs": [],
   "source": []
  },
  {
   "cell_type": "code",
   "execution_count": 4,
   "metadata": {
    "id": "_QniReS6Blra"
   },
   "outputs": [],
   "source": [
    "# adjustments of b_model\n",
    "class InfiniteTFIModel(b_model.TFIModel):\n",
    "    def init_H_bonds(self):\n",
    "        \"\"\"Initialize `H_bonds` hamiltonian. Called by __init__().\"\"\"\n",
    "        sx, sz, id = self.sigmax, self.sigmaz, self.id\n",
    "        d = self.d\n",
    "        H_list = []\n",
    "        for i in range(self.L): # <- changed here: up to L\n",
    "            gL = gR = 0.5 * self.g\n",
    "            # changed here: removed if-cases\n",
    "            H_bond = -self.J * np.kron(sx, sx) - gL * np.kron(sz, id) - gR * np.kron(id, sz)\n",
    "            # H_bond has legs ``i, j, i*, j*``\n",
    "            H_list.append(np.reshape(H_bond, [d, d, d, d]))\n",
    "        self.H_bonds = H_list\n",
    "        \n",
    "    def energy(self, psi):\n",
    "        return super().energy(psi) / self.L"
   ]
  },
  {
   "cell_type": "code",
   "execution_count": 5,
   "metadata": {
    "id": "Je3_Mr0rBlrb"
   },
   "outputs": [],
   "source": [
    "# adjustments of c_tebd\n",
    "def update_bond(psi, i, U_bond, chi_max, eps):\n",
    "    \"\"\"Apply `U_bond` acting on i,j=(i+1) to `psi`.\"\"\"\n",
    "    j = (i + 1) % psi.L  # <- changed here\n",
    "    # construct theta matrix\n",
    "    theta = psi.get_theta2(i)  # vL i j vR\n",
    "    # apply U\n",
    "    Utheta = np.tensordot(U_bond, theta, axes=([2, 3], [1, 2]))  # i j [i*] [j*], vL [i] [j] vR\n",
    "    Utheta = np.transpose(Utheta, [2, 0, 1, 3])  # vL i j vR\n",
    "    # split and truncate\n",
    "    Ai, Sj, Bj = a_mps.split_truncate_theta(Utheta, chi_max, eps)   # the original split_truncate_theta\n",
    "    # put back into MPS\n",
    "    Gi = np.tensordot(np.diag(psi.Ss[i]**(-1)), Ai, axes=[1, 0])  # vL [vL*], [vL] i vC\n",
    "    psi.Bs[i] = np.tensordot(Gi, np.diag(Sj), axes=[2, 0])  # vL i [vC], [vC] vC\n",
    "    psi.Ss[j] = Sj  # vC\n",
    "    psi.Bs[j] = Bj  # vC j vR\n",
    "    \n",
    "def run_TEBD(psi, U_bonds, N_steps, chi_max, eps):\n",
    "    \"\"\"Evolve the state `psi` for `N_steps` time steps with (first order) TEBD.\n",
    "\n",
    "    The state psi is modified in place.\"\"\"\n",
    "    Nbonds = psi.L  # <- changed\n",
    "    assert len(U_bonds) == Nbonds\n",
    "    for n in range(N_steps):\n",
    "        for k in [0, 1]:  # even, odd\n",
    "            for i_bond in range(k, Nbonds, 2):\n",
    "                update_bond(psi, i_bond, U_bonds[i_bond], chi_max, eps)\n",
    "    # done\n",
    "    \n",
    "# adjusted a bit more of this function...\n",
    "def example_TEBD_gs_infinite(J, g, N_steps=500, chi_max=30):\n",
    "    L = 2  # unit cell of two sites\n",
    "    print(\"infinite TEBD (imaginary time evolution)\")\n",
    "    print(\"J={J:.1f}, g={g:.2f}\".format(J=J, g=g))\n",
    "    model = InfiniteTFIModel(L, J=J, g=g) # use the new defined model\n",
    "    psi = init_infinite_spinup_MPS(L) # and new InfiniteMPS\n",
    "    for dt in [0.1, 0.01, 0.001, 1.e-4, 1.e-5]:\n",
    "        U_bonds = c_tebd.calc_U_bonds(model, dt) # still the same\n",
    "        run_TEBD(psi, U_bonds, N_steps=N_steps, chi_max=chi_max, eps=1.e-10)  # the new function!\n",
    "        E = model.energy(psi)\n",
    "        print(\"dt = {dt:.5f}: E = {E:.13f}\".format(dt=dt, E=E))\n",
    "    print(\"final bond dimensions: \", psi.get_chi())\n",
    "    E_exact = tfi_exact.infinite_gs_energy(J, g) # infinite instead of finite\n",
    "    print(\"Exact (analytic): E = {E:.13f}\".format(E=E_exact))\n",
    "    print(\"relative error: \", abs((E - E_exact) / E_exact))\n",
    "    return E, psi, model"
   ]
  },
  {
   "cell_type": "code",
   "execution_count": 6,
   "metadata": {
    "colab": {
     "base_uri": "https://localhost:8080/"
    },
    "id": "vKFSAPIeBlrd",
    "outputId": "bc76ccc0-2cc7-4fd7-c2bc-e4e18d0548f9"
   },
   "outputs": [
    {
     "name": "stdout",
     "output_type": "stream",
     "text": [
      "infinite TEBD (imaginary time evolution)\n",
      "J=1.0, g=1.50\n"
     ]
    },
    {
     "name": "stderr",
     "output_type": "stream",
     "text": [
      "/tmp/ipykernel_206734/1571346603.py:44: DeprecationWarning: `np.float` is a deprecated alias for the builtin `float`. To silence this warning, use `float` by itself. Doing this will not modify any behavior and is safe. If you specifically wanted the numpy scalar type, use `np.float64` here.\n",
      "Deprecated in NumPy 1.20; for more details and guidance: https://numpy.org/devdocs/release/1.20.0-notes.html#deprecations\n",
      "  B = np.zeros([1, 2, 1], np.float)\n",
      "/tmp/ipykernel_206734/1571346603.py:46: DeprecationWarning: `np.float` is a deprecated alias for the builtin `float`. To silence this warning, use `float` by itself. Doing this will not modify any behavior and is safe. If you specifically wanted the numpy scalar type, use `np.float64` here.\n",
      "Deprecated in NumPy 1.20; for more details and guidance: https://numpy.org/devdocs/release/1.20.0-notes.html#deprecations\n",
      "  S = np.ones([1], np.float)\n"
     ]
    },
    {
     "name": "stdout",
     "output_type": "stream",
     "text": [
      "dt = 0.10000: E = -1.6622376659950\n",
      "dt = 0.01000: E = -1.6709745193387\n",
      "dt = 0.00100: E = -1.6718222587090\n",
      "dt = 0.00010: E = -1.6719075837948\n",
      "dt = 0.00001: E = -1.6719161221699\n",
      "final bond dimensions:  [21, 21]\n",
      "Exact (analytic): E = -1.6719262215362\n",
      "relative error:  6.040557413109641e-06\n"
     ]
    }
   ],
   "source": [
    "E, _, _ = example_TEBD_gs_infinite(1., 1.5, N_steps=100)"
   ]
  },
  {
   "cell_type": "code",
   "execution_count": 12,
   "metadata": {
    "colab": {
     "base_uri": "https://localhost:8080/"
    },
    "id": "h_f4cZEWBlre",
    "outputId": "d7c77b39-6eda-42a1-e029-ebbcbd3b6985"
   },
   "outputs": [
    {
     "name": "stdout",
     "output_type": "stream",
     "text": [
      "infinite TEBD (imaginary time evolution)\n",
      "J=1.0, g=1.00\n",
      "dt = 0.10000: E = -1.2686637925848\n",
      "dt = 0.01000: E = -1.2727299193540\n"
     ]
    },
    {
     "name": "stderr",
     "output_type": "stream",
     "text": [
      "/tmp/ipykernel_206734/1571346603.py:44: DeprecationWarning: `np.float` is a deprecated alias for the builtin `float`. To silence this warning, use `float` by itself. Doing this will not modify any behavior and is safe. If you specifically wanted the numpy scalar type, use `np.float64` here.\n",
      "Deprecated in NumPy 1.20; for more details and guidance: https://numpy.org/devdocs/release/1.20.0-notes.html#deprecations\n",
      "  B = np.zeros([1, 2, 1], np.float)\n",
      "/tmp/ipykernel_206734/1571346603.py:46: DeprecationWarning: `np.float` is a deprecated alias for the builtin `float`. To silence this warning, use `float` by itself. Doing this will not modify any behavior and is safe. If you specifically wanted the numpy scalar type, use `np.float64` here.\n",
      "Deprecated in NumPy 1.20; for more details and guidance: https://numpy.org/devdocs/release/1.20.0-notes.html#deprecations\n",
      "  S = np.ones([1], np.float)\n"
     ]
    },
    {
     "name": "stdout",
     "output_type": "stream",
     "text": [
      "dt = 0.00100: E = -1.2731198376954\n",
      "dt = 0.00010: E = -1.2731590675618\n",
      "dt = 0.00001: E = -1.2731629929455\n",
      "final bond dimensions:  [30, 30]\n",
      "Exact (analytic): E = -1.2732395447352\n",
      "relative error:  6.012363499445302e-05\n"
     ]
    }
   ],
   "source": [
    "E, psi, _ = example_TEBD_gs_infinite(1., 1.0, N_steps=100)  # at the critical point: larger error"
   ]
  },
  {
   "cell_type": "code",
   "execution_count": 13,
   "metadata": {
    "id": "lIafQJC9Blrf",
    "outputId": "caf32f13-5966-4a6b-8e05-7b454deabed1"
   },
   "outputs": [
    {
     "data": {
      "text/plain": [
       "array([0.80996322+0.j, 0.93066836+0.j, 1.        +0.j])"
      ]
     },
     "execution_count": 13,
     "metadata": {},
     "output_type": "execute_result"
    }
   ],
   "source": [
    "def eigvals_transfer_matrix(psi):\n",
    "    chi = psi.Bs[0].shape[0]\n",
    "    L = psi.L\n",
    "\n",
    "    T = np.tensordot(psi.Bs[0], np.conj(psi.Bs[0]), axes=(1, 1))  # a,b,a*,b*\n",
    "    T = T.transpose(0, 2, 1, 3)  # a,a*,b,b*\n",
    "    for i in range(1, L):\n",
    "        T = np.tensordot(T, psi.Bs[i], axes=(2, 0))  # a,a*,b*,i,b\n",
    "        T = np.tensordot(T, np.conj(psi.Bs[i]), axes=([2, 3], [0,1]))  #a,a*,b,b*\n",
    "    T = np.reshape(T, (chi**2, chi**2))\n",
    "\n",
    "    # Obtain the 3 largest eigenvalues\n",
    "    eigvals = scipy.sparse.linalg.eigs(T, k=3, which='LM', return_eigenvectors=False, ncv=20)\n",
    "    return eigvals\n",
    "\n",
    "eigvals_transfer_matrix(psi)\n"
   ]
  },
  {
   "cell_type": "code",
   "execution_count": 9,
   "metadata": {
    "id": "SfgMs9pwBlrg",
    "outputId": "6a2b4dbc-b2c6-47ef-d045-f7fb426b04d7"
   },
   "outputs": [
    {
     "name": "stdout",
     "output_type": "stream",
     "text": [
      "infinite TEBD (imaginary time evolution)\n",
      "J=1.0, g=0.50\n",
      "dt = 0.10000: E = -1.0633607863280\n",
      "dt = 0.01000: E = -1.0635249098752\n",
      "dt = 0.00100: E = -1.0635422497540\n",
      "dt = 0.00010: E = -1.0635439872170\n"
     ]
    },
    {
     "name": "stderr",
     "output_type": "stream",
     "text": [
      "/tmp/ipykernel_206734/1571346603.py:44: DeprecationWarning: `np.float` is a deprecated alias for the builtin `float`. To silence this warning, use `float` by itself. Doing this will not modify any behavior and is safe. If you specifically wanted the numpy scalar type, use `np.float64` here.\n",
      "Deprecated in NumPy 1.20; for more details and guidance: https://numpy.org/devdocs/release/1.20.0-notes.html#deprecations\n",
      "  B = np.zeros([1, 2, 1], np.float)\n",
      "/tmp/ipykernel_206734/1571346603.py:46: DeprecationWarning: `np.float` is a deprecated alias for the builtin `float`. To silence this warning, use `float` by itself. Doing this will not modify any behavior and is safe. If you specifically wanted the numpy scalar type, use `np.float64` here.\n",
      "Deprecated in NumPy 1.20; for more details and guidance: https://numpy.org/devdocs/release/1.20.0-notes.html#deprecations\n",
      "  S = np.ones([1], np.float)\n"
     ]
    },
    {
     "name": "stdout",
     "output_type": "stream",
     "text": [
      "dt = 0.00001: E = -1.0635441609815\n",
      "final bond dimensions:  [20, 20]\n",
      "Exact (analytic): E = -1.0635444099734\n",
      "relative error:  2.3411520600728084e-07\n",
      "infinite TEBD (imaginary time evolution)\n",
      "J=1.0, g=0.60\n",
      "dt = 0.10000: E = -1.0918512402977\n",
      "dt = 0.01000: E = -1.0921978585237\n",
      "dt = 0.00100: E = -1.0922340686635\n",
      "dt = 0.00010: E = -1.0922376979642\n",
      "dt = 0.00001: E = -1.0922380609448\n",
      "final bond dimensions:  [28, 28]\n",
      "Exact (analytic): E = -1.0922385835545\n",
      "relative error:  4.784757702083317e-07\n",
      "infinite TEBD (imaginary time evolution)\n",
      "J=1.0, g=0.70\n",
      "dt = 0.10000: E = -1.1260911890582\n",
      "dt = 0.01000: E = -1.1267518964978\n",
      "dt = 0.00100: E = -1.1268198945470\n",
      "dt = 0.00010: E = -1.1268267120569\n",
      "dt = 0.00001: E = -1.1268273939305\n",
      "final bond dimensions:  [30, 30]\n",
      "Exact (analytic): E = -1.1268286675870\n",
      "relative error:  1.1303018415017012e-06\n",
      "infinite TEBD (imaginary time evolution)\n",
      "J=1.0, g=0.80\n",
      "dt = 0.10000: E = -1.1664701246078\n",
      "dt = 0.01000: E = -1.1676630597552\n",
      "dt = 0.00100: E = -1.1677829644954\n",
      "dt = 0.00010: E = -1.1677949868939\n",
      "dt = 0.00001: E = -1.1677961893753\n",
      "final bond dimensions:  [30, 30]\n",
      "Exact (analytic): E = -1.1678095085206\n",
      "relative error:  1.1405237948034086e-05\n",
      "infinite TEBD (imaginary time evolution)\n",
      "J=1.0, g=0.90\n",
      "dt = 0.10000: E = -1.2133058065659\n",
      "dt = 0.01000: E = -1.2155241266863\n",
      "dt = 0.00100: E = -1.2157380849118\n",
      "dt = 0.00010: E = -1.2157595227144\n",
      "dt = 0.00001: E = -1.2157616668324\n",
      "final bond dimensions:  [30, 30]\n",
      "Exact (analytic): E = -1.2160009141097\n",
      "relative error:  0.0001967492578131006\n",
      "infinite TEBD (imaginary time evolution)\n",
      "J=1.0, g=1.00\n",
      "dt = 0.10000: E = -1.2686637925848\n",
      "dt = 0.01000: E = -1.2727299193540\n",
      "dt = 0.00100: E = -1.2731198376954\n",
      "dt = 0.00010: E = -1.2731590675618\n",
      "dt = 0.00001: E = -1.2731629929455\n",
      "final bond dimensions:  [30, 30]\n",
      "Exact (analytic): E = -1.2732395447352\n",
      "relative error:  6.012363499445302e-05\n",
      "infinite TEBD (imaginary time evolution)\n",
      "J=1.0, g=1.10\n",
      "dt = 0.10000: E = -1.3364000301965\n",
      "dt = 0.01000: E = -1.3422325671124\n",
      "dt = 0.00100: E = -1.3427938523044\n",
      "dt = 0.00010: E = -1.3428503840516\n",
      "dt = 0.00001: E = -1.3428560413634\n",
      "final bond dimensions:  [30, 30]\n",
      "Exact (analytic): E = -1.3428640227251\n",
      "relative error:  5.943536755810945e-06\n",
      "infinite TEBD (imaginary time evolution)\n",
      "J=1.0, g=1.20\n",
      "dt = 0.10000: E = -1.4119124670645\n",
      "dt = 0.01000: E = -1.4188663486286\n",
      "dt = 0.00100: E = -1.4195362243599\n",
      "dt = 0.00010: E = -1.4196036808059\n",
      "dt = 0.00001: E = -1.4196104312933\n",
      "final bond dimensions:  [30, 30]\n",
      "Exact (analytic): E = -1.4196192748982\n",
      "relative error:  6.229561049263746e-06\n",
      "infinite TEBD (imaginary time evolution)\n",
      "J=1.0, g=1.30\n",
      "dt = 0.10000: E = -1.4922537566071\n",
      "dt = 0.01000: E = -1.4999848030050\n",
      "dt = 0.00100: E = -1.5007311473366\n",
      "dt = 0.00010: E = -1.5008062899728\n",
      "dt = 0.00001: E = -1.5008138095229\n",
      "final bond dimensions:  [28, 28]\n",
      "Exact (analytic): E = -1.5008232436750\n",
      "relative error:  6.285984840740301e-06\n",
      "infinite TEBD (imaginary time evolution)\n",
      "J=1.0, g=1.40\n",
      "dt = 0.10000: E = -1.5759838405825\n",
      "dt = 0.01000: E = -1.5842860113434\n",
      "dt = 0.00100: E = -1.5850894924141\n",
      "dt = 0.00010: E = -1.5851703745562\n",
      "dt = 0.00001: E = -1.5851784683798\n",
      "final bond dimensions:  [24, 24]\n",
      "Exact (analytic): E = -1.5851883000540\n",
      "relative error:  6.2022121848562155e-06\n",
      "infinite TEBD (imaginary time evolution)\n",
      "J=1.0, g=1.50\n",
      "dt = 0.10000: E = -1.6622376659950\n",
      "dt = 0.01000: E = -1.6709745193387\n",
      "dt = 0.00100: E = -1.6718222587090\n",
      "dt = 0.00010: E = -1.6719075837948\n",
      "dt = 0.00001: E = -1.6719161221699\n",
      "final bond dimensions:  [21, 21]\n",
      "Exact (analytic): E = -1.6719262215362\n",
      "relative error:  6.040557413109641e-06\n"
     ]
    }
   ],
   "source": [
    "gs = np.linspace(0.5, 1.5, 11)\n",
    "TM_eigvals = []\n",
    "for g in gs:\n",
    "    E, psi, mod = example_TEBD_gs_infinite(1., g, N_steps=100)\n",
    "    TM_eigvals.append(eigvals_transfer_matrix(psi))"
   ]
  },
  {
   "cell_type": "code",
   "execution_count": 10,
   "metadata": {
    "id": "56NY_rACBlrg",
    "outputId": "e07cd169-e608-4ef9-d4cf-a5e0170b233a"
   },
   "outputs": [
    {
     "data": {
      "image/png": "[encoded data removed]",
      "text/plain": [
       "<Figure size 640x480 with 1 Axes>"
      ]
     },
     "metadata": {},
     "output_type": "display_data"
    }
   ],
   "source": [
    "TM_eigvals = np.array(TM_eigvals)\n",
    "plt.figure()\n",
    "for i in range(3):\n",
    "    plt.plot(gs, TM_eigvals[:, i], 'o-')\n",
    "plt.xlabel('$g/J$')\n",
    "plt.ylabel('eigenvals. of transfer matrix')\n",
    "plt.show()"
   ]
  },
  {
   "cell_type": "markdown",
   "metadata": {
    "collapsed": true,
    "id": "BHKE10RxBlrh"
   },
   "source": [
    "## Interpretation\n",
    "\n",
    "### The largest eigenvalue(s)\n",
    "The transfermatrix appears repeatedly in expectation values $<\\psi|A_i|\\psi> $ and correlation functions $<\\psi|A_i B_j |\\psi>$. If the state is in (right) canonical form, the largest eigenvalues is 1, with $\\delta_{cc'}$ as the corresponding eigenvector - the equality $T_{aa',cc'} \\delta_{cc'} = \\delta_{aa'}$ follows directly from the orthogonality of the B's; similarly $\\Lambda_a^2 \\delta_{aa'}$ is a left eigenvector.\n",
    "\n",
    "For a pure state, the eigenvalue $1$ is unique, but for g < 1, $e^{-\\tau H}$ yields the states $ |\\rightarrow \\rightarrow \\dots > $ and $|\\leftarrow \\leftarrow \\dots>$ (each + quantum fluctuations) with equal weight, i.e., not a \"pure\" state,\n",
    "hence the degeneracy of the eigenvalue 1.\n",
    "\n",
    "\n",
    "Alternative answer:\n",
    "\n",
    "For $g>1$: We have states in paramagnetic phase, i.e. can be transformed to the pure state limit by finite depth circuit, that does not break symmetry. \n",
    "    \n",
    "For $g<1$: We have states in ferromagnetic phase, i.e. can be transformed to two different pure states $ |\\rightarrow \\rightarrow \\dots > $ and $|\\leftarrow \\leftarrow \\dots>$ by finite depth circuit, that break symmetry. Since the symmetry is broken, there are two degenerate ground states. This leads to the double degeneracy in the spectrum of transfer matrix.\n",
    "\n",
    "\n",
    "\n",
    "### The second(third) largest eigenvalue\n",
    "The second(third) largest eigenvalue determines the correlation length: we can write the correlation functions as $ <A_i B_j> = L_A  T^{|j-i|/L} R_B $, where $L_A$ and $R_B$ are left and right parts of the corresponding tensor network. \n",
    "Hence, the second largest eigenvalue determines the decay of the connected part $<A_i B_j> - <A_i> <B_j>$. For detail, see page 17, https://arxiv.org/pdf/1306.2164.pdf\n",
    "\n",
    "\n",
    "At the critical point $g=1$, the correlation length diverges. That is the true ground states at the critical point has infinite correlation length, i.e. a power law decay.\n",
    "\n",
    "This corresponds to the \"limit\" of second largest eigenvalues going to 1 if one increases the bond dimension to infinity. Because of the fintie bound dimension for MPS, one could always only capture finite correlation length. One can consider the similar idea of finite size scaling and apply it to do the scaling analysis for bond dimension.\n",
    "\n",
    "\n"
   ]
  },
  {
   "cell_type": "code",
   "execution_count": null,
   "metadata": {
    "id": "MqfclKThBlrh"
   },
   "outputs": [],
   "source": []
  }
 ],
 "metadata": {
  "colab": {
   "collapsed_sections": [],
   "name": "sol10_1_infinite_MPS.ipynb",
   "provenance": []
  },
  "kernelspec": {
   "display_name": "Python 3 (ipykernel)",
   "language": "python",
   "name": "python3"
  },
  "language_info": {
   "codemirror_mode": {
    "name": "ipython",
    "version": 3
   },
   "file_extension": ".py",
   "mimetype": "text/x-python",
   "name": "python",
   "nbconvert_exporter": "python",
   "pygments_lexer": "ipython3",
   "version": "3.10.2"
  }
 },
 "nbformat": 4,
 "nbformat_minor": 1
}

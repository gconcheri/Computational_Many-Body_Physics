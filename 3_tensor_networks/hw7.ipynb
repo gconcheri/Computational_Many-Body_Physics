{
 "cells": [
  {
   "cell_type": "code",
   "execution_count": 1,
   "metadata": {},
   "outputs": [],
   "source": [
    "import numpy as np\n",
    "import scipy\n",
    "import matplotlib.pyplot as plt\n",
    "#from ed import * per importare ed senza bisogno di scrivere alcun prefisso\n",
    "import ed"
   ]
  },
  {
   "cell_type": "markdown",
   "metadata": {},
   "source": [
    "## Ex 7.1"
   ]
  },
  {
   "cell_type": "markdown",
   "metadata": {},
   "source": [
    "a) As in Exercise 6.2, generate the ground state of the transverse field Ising model with\n",
    "open boundary conditions for L = 14, g = 1.5, J ≡ 1. Make sure it is normalized to\n",
    "⟨ψ|ψ⟩ = 1."
   ]
  },
  {
   "cell_type": "code",
   "execution_count": 3,
   "metadata": {},
   "outputs": [
    {
     "name": "stdout",
     "output_type": "stream",
     "text": [
      "[ 8.14694335e-01 -2.74452672e-15 -3.88226482e-15 ... -6.30369818e-18\n",
      " -8.00665169e-18  4.07427082e-06]\n"
     ]
    },
    {
     "data": {
      "text/plain": [
       "0.9999999999999983"
      ]
     },
     "execution_count": 3,
     "metadata": {},
     "output_type": "execute_result"
    }
   ],
   "source": [
    "L = 14\n",
    "g = 1.5\n",
    "J = 1.\n",
    "sx_list = ed.gen_sx_list(L)\n",
    "sz_list = ed.gen_sz_list(L)\n",
    "H = ed.gen_hamiltonian(sx_list, sz_list, g, J)\n",
    "E, vecs = scipy.sparse.linalg.eigsh(H, which='SA')\n",
    "psi0 = vecs[:, 0]\n",
    "print(psi0)\n",
    "np.linalg.norm(psi0)"
   ]
  },
  {
   "cell_type": "markdown",
   "metadata": {},
   "source": [
    "b) Write a function compress(psi, L, chimax), which takes the state, the length of the\n",
    "chain and the maximal desired bond dimension chimax as input and compresses the\n",
    "state into MPS form using successive SVDs. It should return a list of L numpy\n",
    "arrays, namely the M [n], each with 3 indices (αn, jn, αn+1).\n",
    "Hint: Let us define the indices Rn = (jn, jn+1, . . . , jL), such that R1 ≡ i"
   ]
  },
  {
   "cell_type": "code",
   "execution_count": 4,
   "metadata": {},
   "outputs": [],
   "source": [
    "def compress(psi, L, chimax):\n",
    "    Ms = []\n",
    "    psi = np.reshape(psi, (2, 2**(L-1)))\n",
    "    n = 1\n",
    "    lambda_n = [1]\n",
    "    for i in range(1,L+1):\n",
    "        psi = np.reshape(psi, (2*len(lambda_n),2**(L-i)))\n",
    "        M_n, lambda_n, psitilde = np.linalg.svd(psi)\n",
    "\n",
    "        keep = np.argsort ( lambda_n )[:: -1][: chimax ]\n",
    "        M_n = M_n [: , keep ]\n",
    "        lambda_n = lambda_n [ keep ]\n",
    "        psitilde = psitilde [ keep , :]\n",
    "\n",
    "        M_n = np.reshape(M_n, (n,2,len(lambda_n)))\n",
    "        psi = lambda_n[:, np.newaxis] * psitilde[:, :]\n",
    "        n = len(psitilde)\n",
    "\n",
    "        Ms.append(M_n)\n",
    "    \n",
    "    return Ms\n",
    "    \n",
    "\n"
   ]
  },
  {
   "cell_type": "code",
   "execution_count": 5,
   "metadata": {},
   "outputs": [
    {
     "name": "stdout",
     "output_type": "stream",
     "text": [
      "1\n"
     ]
    }
   ],
   "source": [
    "a = [1]\n",
    "print(len(a))"
   ]
  },
  {
   "cell_type": "markdown",
   "metadata": {},
   "source": [
    "c) What is the maximally necessary bond dimension for L = 14? Call compress() for\n",
    "the ground state with χmax larger than that to get an exact MPS representation"
   ]
  },
  {
   "cell_type": "markdown",
   "metadata": {},
   "source": [
    "The maximally necessary bond dimension is $2^{L/2} = 2^7$"
   ]
  },
  {
   "cell_type": "code",
   "execution_count": 6,
   "metadata": {},
   "outputs": [],
   "source": [
    "chimax = 2**7\n",
    "psiex = compress(psi0, 14, chimax)"
   ]
  },
  {
   "cell_type": "code",
   "execution_count": 7,
   "metadata": {},
   "outputs": [],
   "source": [
    "\n",
    "entries_psiex = 0\n",
    "for i in range(len(psiex)):\n",
    "    Mi = np.array(psiex[i])\n",
    "    a = np.shape(Mi)\n",
    "    entries_psiex += a[0]*a[1]*a[2]\n"
   ]
  },
  {
   "cell_type": "markdown",
   "metadata": {},
   "source": [
    "d) Call compress() again with χmax = 10 to get a compressed MPS. Compare\n",
    "the number of floats stored in both MPS.\n",
    "Hint: The number of elements in a numpy array M are given by M.size"
   ]
  },
  {
   "cell_type": "code",
   "execution_count": 8,
   "metadata": {},
   "outputs": [],
   "source": [
    "psicompr = compress(psi0, 14, 10)\n",
    "\n",
    "entries_psicompr = 0\n",
    "for i in range(len(psicompr)):\n",
    "    Mi = np.array(psicompr[i])\n",
    "    a = np.shape(Mi)\n",
    "    entries_psicompr += a[0]*a[1]*a[2]"
   ]
  },
  {
   "cell_type": "code",
   "execution_count": 9,
   "metadata": {},
   "outputs": [
    {
     "name": "stdout",
     "output_type": "stream",
     "text": [
      "1688\n",
      "43688\n"
     ]
    }
   ],
   "source": [
    "print(entries_psicompr)\n",
    "print(entries_psiex)"
   ]
  },
  {
   "cell_type": "markdown",
   "metadata": {},
   "source": [
    "e) Write a function to calculate the overlap between two MPS. Recall from class that\n",
    "there is an inefficient way (first contracting the bra and ket on top and bottom\n",
    "separately and finally contracting over the j1, . . . jn) and an efficient way (contracting from left to right); implement the efficient one! Check that the overlap is (close to) 1 and calculate the overlap"
   ]
  },
  {
   "cell_type": "code",
   "execution_count": 10,
   "metadata": {},
   "outputs": [],
   "source": [
    "def overlap(M1,M2):\n",
    "    #M1 and M2 are the two sets of MPS of the two states\n",
    "    #first element of each list is the matrix on the left\n",
    "    N = len(M1)\n",
    "    #print(len(M1))\n",
    "    #print(len(M2))\n",
    "    tensor2 = np.tensordot(M2[0].conj(), M1[0], [[0, 1], [0, 1]]) # [vL*] [i*] vR*, [vL] [i] vR -> vR* vR\n",
    "    for i in range(1,N-1):\n",
    "        tensor1 = np.tensordot(tensor2, M1[i], [1,0]) # vR* [vR], [vL] i vR -> vR* i vR\n",
    "        tensor2 = np.tensordot(M2[i].conj(), tensor1, [[0,1],[0,1]]) # [vL*] [i*] vR*, [vR*] [i] vR -> vR* vR\n",
    "    tensor1 = np.tensordot(tensor2, M1[N-1], [1,0]) # vR* [vR], [vL] i vR -> vR* i vR\n",
    "    result = np.tensordot(M2[N-1].conj(), tensor1, [[0,1,2],[0,1,2]]) # [vL*] [i*] [vR*], [vR*] [i] [vR] -> [vR*] [vR]\n",
    "    return result"
   ]
  },
  {
   "cell_type": "code",
   "execution_count": 11,
   "metadata": {},
   "outputs": [
    {
     "name": "stdout",
     "output_type": "stream",
     "text": [
      "1.0000000000000013\n",
      "\n",
      "0.9999999999999905\n"
     ]
    }
   ],
   "source": [
    "print(overlap(psiex, psiex))\n",
    "print()\n",
    "print(overlap(psiex, psicompr))"
   ]
  },
  {
   "cell_type": "markdown",
   "metadata": {},
   "source": [
    "f) Write the state |↑↑ · · · ↑⟩ as an MPS with bond dimension 1. Calculate the overlap\n",
    "of this state with the ground state (using MPS techniques, i.e. use the function you\n",
    "wrote in e) )"
   ]
  },
  {
   "cell_type": "code",
   "execution_count": 13,
   "metadata": {},
   "outputs": [
    {
     "name": "stdout",
     "output_type": "stream",
     "text": [
      "[ 1.00000000e+00  1.31120353e-16  1.22888407e-16 ...  1.07955461e-17\n",
      "  1.07100075e-17 -9.42280401e-17]\n"
     ]
    },
    {
     "data": {
      "text/plain": [
       "1.0000000000000007"
      ]
     },
     "execution_count": 13,
     "metadata": {},
     "output_type": "execute_result"
    }
   ],
   "source": [
    "L = 14\n",
    "g = 1.5\n",
    "J = 0.\n",
    "sx_list = ed.gen_sx_list(L)\n",
    "sz_list = ed.gen_sz_list(L)\n",
    "H = ed.gen_hamiltonian(sx_list, sz_list, g, J)\n",
    "E, vecs = scipy.sparse.linalg.eigsh(H, which='SA')\n",
    "psinew = vecs[:, 0]\n",
    "print(psinew)\n",
    "np.linalg.norm(psinew)\n",
    "\n",
    "#ground state of Hamiltonian with J = 0 is exactly |↑↑ ·· ↑⟩\n",
    "# which in comp basis is written as (1,0,0...0)"
   ]
  },
  {
   "cell_type": "code",
   "execution_count": 14,
   "metadata": {},
   "outputs": [],
   "source": [
    "psinew_MPS = compress(psinew, 14, 1)"
   ]
  },
  {
   "cell_type": "code",
   "execution_count": 15,
   "metadata": {},
   "outputs": [
    {
     "name": "stdout",
     "output_type": "stream",
     "text": [
      "Overlap of psinew and groundstate:  0.814694334791425\n"
     ]
    }
   ],
   "source": [
    "print(\"Overlap of psinew and groundstate: \", overlap(psinew_MPS, psiex))"
   ]
  },
  {
   "cell_type": "markdown",
   "metadata": {},
   "source": [
    "## Ex 7.2"
   ]
  },
  {
   "cell_type": "markdown",
   "metadata": {},
   "source": [
    "First construct a dimerized spin-1\n",
    "2 chain of singlets"
   ]
  },
  {
   "cell_type": "code",
   "execution_count": 46,
   "metadata": {},
   "outputs": [],
   "source": [
    "M1up = np.array([1/np.sqrt(2),0])\n",
    "M1down = np.array([0, 1/np.sqrt(2)])\n",
    "M2up = np.array([[0],[1]])\n",
    "M2down = np.array([[1],[0]])\n",
    "\n"
   ]
  },
  {
   "cell_type": "code",
   "execution_count": 47,
   "metadata": {},
   "outputs": [
    {
     "name": "stdout",
     "output_type": "stream",
     "text": [
      "(1, 2, 2)\n",
      "(2, 2, 1)\n",
      "(1, 2, 2)\n",
      "(2, 2, 1)\n",
      "(1, 2, 2)\n",
      "(2, 2, 1)\n",
      "(1, 2, 2)\n",
      "(2, 2, 1)\n",
      "(1, 2, 2)\n",
      "(2, 2, 1)\n",
      "(1, 2, 2)\n",
      "(2, 2, 1)\n",
      "(1, 2, 2)\n",
      "(2, 2, 1)\n",
      "[array([[[0.70710678, 0.        ],\n",
      "        [0.        , 0.70710678]]]), array([[[0],\n",
      "        [1]],\n",
      "\n",
      "       [[1],\n",
      "        [0]]]), array([[[0.70710678, 0.        ],\n",
      "        [0.        , 0.70710678]]]), array([[[0],\n",
      "        [1]],\n",
      "\n",
      "       [[1],\n",
      "        [0]]]), array([[[0.70710678, 0.        ],\n",
      "        [0.        , 0.70710678]]]), array([[[0],\n",
      "        [1]],\n",
      "\n",
      "       [[1],\n",
      "        [0]]]), array([[[0.70710678, 0.        ],\n",
      "        [0.        , 0.70710678]]]), array([[[0],\n",
      "        [1]],\n",
      "\n",
      "       [[1],\n",
      "        [0]]]), array([[[0.70710678, 0.        ],\n",
      "        [0.        , 0.70710678]]]), array([[[0],\n",
      "        [1]],\n",
      "\n",
      "       [[1],\n",
      "        [0]]]), array([[[0.70710678, 0.        ],\n",
      "        [0.        , 0.70710678]]]), array([[[0],\n",
      "        [1]],\n",
      "\n",
      "       [[1],\n",
      "        [0]]]), array([[[0.70710678, 0.        ],\n",
      "        [0.        , 0.70710678]]]), array([[[0],\n",
      "        [1]],\n",
      "\n",
      "       [[1],\n",
      "        [0]]]), array([[[0.70710678, 0.        ],\n",
      "        [0.        , 0.70710678]]]), array([[[0],\n",
      "        [1]],\n",
      "\n",
      "       [[1],\n",
      "        [0]]]), array([[[0.70710678, 0.        ],\n",
      "        [0.        , 0.70710678]]]), array([[[0],\n",
      "        [1]],\n",
      "\n",
      "       [[1],\n",
      "        [0]]]), array([[[0.70710678, 0.        ],\n",
      "        [0.        , 0.70710678]]]), array([[[0],\n",
      "        [1]],\n",
      "\n",
      "       [[1],\n",
      "        [0]]]), array([[[0.70710678, 0.        ],\n",
      "        [0.        , 0.70710678]]]), array([[[0],\n",
      "        [1]],\n",
      "\n",
      "       [[1],\n",
      "        [0]]]), array([[[0.70710678, 0.        ],\n",
      "        [0.        , 0.70710678]]]), array([[[0],\n",
      "        [1]],\n",
      "\n",
      "       [[1],\n",
      "        [0]]]), array([[[0.70710678, 0.        ],\n",
      "        [0.        , 0.70710678]]]), array([[[0],\n",
      "        [1]],\n",
      "\n",
      "       [[1],\n",
      "        [0]]]), array([[[0.70710678, 0.        ],\n",
      "        [0.        , 0.70710678]]]), array([[[0],\n",
      "        [1]],\n",
      "\n",
      "       [[1],\n",
      "        [0]]])]\n",
      "\n",
      "[[[0.70710678 0.        ]\n",
      "  [0.         0.70710678]]]\n"
     ]
    }
   ],
   "source": [
    "N = 14 #number of 1-spins\n",
    "tensor1 = np.array([M1up, M1down])\n",
    "tensor1 = np.reshape(tensor1, (1,2,2))\n",
    "tensor2 = np.hstack((M2up, M2down))\n",
    "tensor2 = np.reshape(tensor2, (2,2,1))\n",
    "spinchain = []\n",
    "for i in range(N):\n",
    "    spinchain.append(tensor1)\n",
    "    print(np.shape(np.array(spinchain[i])))\n",
    "    spinchain.append(tensor2)\n",
    "\n",
    "print(spinchain)\n",
    "print()\n",
    "print(spinchain[4])"
   ]
  },
  {
   "cell_type": "markdown",
   "metadata": {},
   "source": [
    "Use the overlap function between two MPS that you wrote in the previous exercise\n",
    "to check the norm of this singlet MPS, and to compute the spin-correlation function\n",
    "$<σ^z_i σ^z_j>$ . You should observe that this gives always 0 for |i − j| > 1"
   ]
  },
  {
   "cell_type": "code",
   "execution_count": 48,
   "metadata": {},
   "outputs": [
    {
     "name": "stdout",
     "output_type": "stream",
     "text": [
      "0.9999999999999978\n"
     ]
    }
   ],
   "source": [
    "norm_spinchain = overlap(spinchain, spinchain)\n",
    "print(norm_spinchain)"
   ]
  },
  {
   "cell_type": "markdown",
   "metadata": {},
   "source": [
    "Credo che col fatto che in questa chain di spin 1/2 singlets, bisogna applicare sigma z ai due nodi adiacenti che rappresentano lo spin-1. Quindi se devo applicare sigma z nella posizione j, siccome il primo nodo è il secondo elemento del primo Spin-1 (j=1), la posizione j corrisponde ai nodi: j e j+1 -> [j-1] e [j]"
   ]
  },
  {
   "cell_type": "code",
   "execution_count": 1,
   "metadata": {},
   "outputs": [
    {
     "ename": "NameError",
     "evalue": "name 'spinchain' is not defined",
     "output_type": "error",
     "traceback": [
      "\u001b[0;31m---------------------------------------------------------------------------\u001b[0m",
      "\u001b[0;31mNameError\u001b[0m                                 Traceback (most recent call last)",
      "Cell \u001b[0;32mIn[1], line 44\u001b[0m\n\u001b[1;32m     41\u001b[0m     \u001b[38;5;28mprint\u001b[39m(\u001b[38;5;124m\"\u001b[39m\u001b[38;5;124mpatata\u001b[39m\u001b[38;5;124m\"\u001b[39m,sigmazijspinchain(i,j,spinchain)[\u001b[38;5;241m2\u001b[39m])\n\u001b[1;32m     42\u001b[0m     \u001b[38;5;28;01mreturn\u001b[39;00m overlap(spinchain, sigmazijspinchain(i,j,spinchain))\n\u001b[0;32m---> 44\u001b[0m \u001b[38;5;28mprint\u001b[39m(correlation_function(\u001b[38;5;241m2\u001b[39m,\u001b[38;5;241m10\u001b[39m,\u001b[43mspinchain\u001b[49m))\n",
      "\u001b[0;31mNameError\u001b[0m: name 'spinchain' is not defined"
     ]
    }
   ],
   "source": [
    "#credo che col fatto che\n",
    "\"\"\"def sigmazspinchain(j,spinchain):\n",
    "    sigmaz = np.array([[1,0],[0,-1]])\n",
    "    result = spinchain\n",
    "    #print((spinchain[j-1]))\n",
    "    #print()\n",
    "    tensor = np.tensordot(result[j-1], sigmaz, ([1,1])) # vR [i] vL, i [i*]-> vR vL i\n",
    "    tensor = tensor.transpose([0,2,1])\n",
    "    result[j-1] = tensor\n",
    "    tensor1 = np.tensordot(result[j], sigmaz, ([1,1])) # vR [i] vL, i [i*]-> vR vL i\n",
    "    tensor1 = tensor1.transpose([0,2,1])\n",
    "    result[j] = tensor1\n",
    "    #print(spinchain[j-1])\n",
    "    return result\"\"\"\n",
    "\n",
    "def sigmazspinchain(j,spinchain):\n",
    "    sigmaz = np.array([[1,0],[0,-1]]) \n",
    "    result = spinchain.copy() #lists are always passed by reference, arrays are copied (per essere sicuro fai deepcopy)\n",
    "    #print((spinchain[j-1]))\n",
    "    #print()\n",
    "    #print(np.shape(np.array(result[2*(j-1)])))\n",
    "    #print(result[j+1])\n",
    "    tensor = np.tensordot(result[j], sigmaz, ([1,1])) # vR [i] vL (1,2,2), i [i*] (2,2)-> vR vL i (1,2,2)\n",
    "    tensor = tensor.transpose([0,2,1])\n",
    "    result[j] = tensor\n",
    "    #print(3,tensor)\n",
    "\n",
    "    #print(np.shape(np.array(result[2*(j-1)])))\n",
    "    #print(np.shape(np.array(result[2*j])))\n",
    "    #tensor1 = np.tensordot(result[2*j], sigmaz, ([1,1])) # vR [i] vL (2,2,1), i [i*] (2,2)-> vR vL i (2,1,2)\n",
    "    #tensor1 = tensor1.transpose([0,2,1]) #(2,2,1)\n",
    "    #print(np.shape(np.array(tensor1)))\n",
    "    #result[2*j] = tensor1\n",
    "\n",
    "    return result\n",
    "\n",
    "def sigmazijspinchain(i,j,spinchain): \n",
    "    return sigmazspinchain(j,sigmazspinchain(i,spinchain))\n",
    "    \n",
    "def correlation_function(i,j,spinchain):\n",
    "    print(\"patata\",sigmazijspinchain(i,j,spinchain)[2])\n",
    "    return overlap(spinchain, sigmazijspinchain(i,j,spinchain))\n",
    "\n",
    "print(correlation_function(2,10,spinchain))"
   ]
  },
  {
   "cell_type": "code",
   "execution_count": null,
   "metadata": {},
   "outputs": [],
   "source": []
  }
 ],
 "metadata": {
  "kernelspec": {
   "display_name": "Computational",
   "language": "python",
   "name": "python3"
  },
  "language_info": {
   "codemirror_mode": {
    "name": "ipython",
    "version": 3
   },
   "file_extension": ".py",
   "mimetype": "text/x-python",
   "name": "python",
   "nbconvert_exporter": "python",
   "pygments_lexer": "ipython3",
   "version": "3.1.undefined"
  }
 },
 "nbformat": 4,
 "nbformat_minor": 2
}

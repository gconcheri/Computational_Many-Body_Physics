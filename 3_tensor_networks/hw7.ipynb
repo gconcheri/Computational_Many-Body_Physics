{
 "cells": [
  {
   "cell_type": "code",
   "execution_count": 18,
   "metadata": {},
   "outputs": [],
   "source": [
    "import numpy as np\n",
    "import scipy\n",
    "import matplotlib.pyplot as plt\n",
    "#from ed import * per importare ed senza bisogno di scrivere alcun prefisso\n",
    "import ed"
   ]
  },
  {
   "cell_type": "markdown",
   "metadata": {},
   "source": [
    "## Ex 7.1"
   ]
  },
  {
   "cell_type": "markdown",
   "metadata": {},
   "source": [
    "a) As in Exercise 6.2, generate the ground state of the transverse field Ising model with\n",
    "open boundary conditions for L = 14, g = 1.5, J ≡ 1. Make sure it is normalized to\n",
    "⟨ψ|ψ⟩ = 1."
   ]
  },
  {
   "cell_type": "code",
   "execution_count": 51,
   "metadata": {},
   "outputs": [
    {
     "name": "stdout",
     "output_type": "stream",
     "text": [
      "[-8.14694335e-01 -8.41270756e-16 -1.33888127e-15 ... -2.31885084e-19\n",
      " -6.18242692e-18 -4.07427082e-06]\n"
     ]
    },
    {
     "data": {
      "text/plain": [
       "1.0000000000000016"
      ]
     },
     "execution_count": 51,
     "metadata": {},
     "output_type": "execute_result"
    }
   ],
   "source": [
    "L = 14\n",
    "g = 1.5\n",
    "J = 1.\n",
    "sx_list = ed.gen_sx_list(L)\n",
    "sz_list = ed.gen_sz_list(L)\n",
    "H = ed.gen_hamiltonian(sx_list, sz_list, g, J)\n",
    "E, vecs = scipy.sparse.linalg.eigsh(H, which='SA')\n",
    "psi0 = vecs[:, 0]\n",
    "print(psi0)\n",
    "np.linalg.norm(psi0)"
   ]
  },
  {
   "cell_type": "markdown",
   "metadata": {},
   "source": [
    "b) Write a function compress(psi, L, chimax), which takes the state, the length of the\n",
    "chain and the maximal desired bond dimension chimax as input and compresses the\n",
    "state into MPS form using successive SVDs. It should return a list of L numpy\n",
    "arrays, namely the M [n], each with 3 indices (αn, jn, αn+1).\n",
    "Hint: Let us define the indices Rn = (jn, jn+1, . . . , jL), such that R1 ≡ i"
   ]
  },
  {
   "cell_type": "code",
   "execution_count": 76,
   "metadata": {},
   "outputs": [],
   "source": [
    "def compress(psi, L, chimax):\n",
    "    Ms = []\n",
    "    psi = np.reshape(psi, (2, 2**(L-1)))\n",
    "    n = 1\n",
    "    lambda_n = [1]\n",
    "    for i in range(1,L+1):\n",
    "        psi = np.reshape(psi, (2*len(lambda_n),2**(L-i)))\n",
    "        M_n, lambda_n, psitilde = np.linalg.svd(psi)\n",
    "\n",
    "        keep = np.argsort ( lambda_n )[:: -1][: chimax ]\n",
    "        M_n = M_n [: , keep ]\n",
    "        lambda_n = lambda_n [ keep ]\n",
    "        psitilde = psitilde [ keep , :]\n",
    "\n",
    "        M_n = np.reshape(M_n, (n,2,len(lambda_n)))\n",
    "        psi = lambda_n[:, np.newaxis] * psitilde[:, :]\n",
    "        n = len(psitilde)\n",
    "\n",
    "        Ms.append(M_n)\n",
    "    \n",
    "    return Ms\n",
    "    \n",
    "\n"
   ]
  },
  {
   "cell_type": "code",
   "execution_count": 77,
   "metadata": {},
   "outputs": [
    {
     "name": "stdout",
     "output_type": "stream",
     "text": [
      "1\n"
     ]
    }
   ],
   "source": [
    "a = [1]\n",
    "print(len(a))"
   ]
  },
  {
   "cell_type": "markdown",
   "metadata": {},
   "source": [
    "c) What is the maximally necessary bond dimension for L = 14? Call compress() for\n",
    "the ground state with χmax larger than that to get an exact MPS representation"
   ]
  },
  {
   "cell_type": "markdown",
   "metadata": {},
   "source": [
    "The maximally necessary bond dimension is $2^{L/2} = 2^7$"
   ]
  },
  {
   "cell_type": "code",
   "execution_count": 78,
   "metadata": {},
   "outputs": [],
   "source": [
    "chimax = 2**7\n",
    "psiex = compress(psi0, 14, chimax)"
   ]
  },
  {
   "cell_type": "code",
   "execution_count": 79,
   "metadata": {},
   "outputs": [],
   "source": [
    "\n",
    "entries_psiex = 0\n",
    "for i in range(len(psiex)):\n",
    "    Mi = np.array(psiex[i])\n",
    "    a = np.shape(Mi)\n",
    "    entries_psiex += a[0]*a[1]*a[2]\n"
   ]
  },
  {
   "cell_type": "markdown",
   "metadata": {},
   "source": [
    "d) Call compress() again with χmax = 10 to get a compressed MPS. Compare\n",
    "the number of floats stored in both MPS.\n",
    "Hint: The number of elements in a numpy array M are given by M.size"
   ]
  },
  {
   "cell_type": "code",
   "execution_count": 80,
   "metadata": {},
   "outputs": [],
   "source": [
    "psicompr = compress(psi0, 14, 10)\n",
    "\n",
    "entries_psicompr = 0\n",
    "for i in range(len(psicompr)):\n",
    "    Mi = np.array(psicompr[i])\n",
    "    a = np.shape(Mi)\n",
    "    entries_psicompr += a[0]*a[1]*a[2]"
   ]
  },
  {
   "cell_type": "code",
   "execution_count": 81,
   "metadata": {},
   "outputs": [
    {
     "name": "stdout",
     "output_type": "stream",
     "text": [
      "1688\n",
      "43688\n"
     ]
    }
   ],
   "source": [
    "print(entries_psicompr)\n",
    "print(entries_psiex)"
   ]
  },
  {
   "cell_type": "markdown",
   "metadata": {},
   "source": [
    "e) Write a function to calculate the overlap between two MPS. Recall from class that\n",
    "there is an inefficient way (first contracting the bra and ket on top and bottom\n",
    "separately and finally contracting over the j1, . . . jn) and an efficient way (contracting from left to right); implement the efficient one! Check that the overlap is (close to) 1 and calculate the overlap"
   ]
  },
  {
   "cell_type": "code",
   "execution_count": 82,
   "metadata": {},
   "outputs": [],
   "source": [
    "def overlap(M1,M2):\n",
    "    #M1 and M2 are the two sets of MPS of the two states\n",
    "    #first element of each list is the matrix on the left\n",
    "    N = len(M1)\n",
    "    print(len(M1))\n",
    "    print(len(M2))\n",
    "    tensor2 = np.tensordot(M2[0].conj(), M1[0], [[0, 1], [0, 1]]) # [vL*] [i*] vR*, [vL] [i] vR -> vR* vR\n",
    "    for i in range(1,N-1):\n",
    "        tensor1 = np.tensordot(tensor2, M1[i], [1,0]) # vR* [vR], [vL] i vR -> vR* i vR\n",
    "        tensor2 = np.tensordot(M2[i].conj(), tensor1, [[0,1],[0,1]]) # [vL*] [i*] vR*, [vR*] [i] vR -> vR* vR\n",
    "    tensor1 = np.tensordot(tensor2, M1[N-1], [1,0]) # vR* [vR], [vL] i vR -> vR* i vR\n",
    "    result = np.tensordot(M2[N-1].conj(), tensor1, [[0,1,2],[0,1,2]]) # [vL*] [i*] [vR*], [vR*] [i] [vR] -> [vR*] [vR]\n",
    "    return result"
   ]
  },
  {
   "cell_type": "code",
   "execution_count": 84,
   "metadata": {},
   "outputs": [
    {
     "name": "stdout",
     "output_type": "stream",
     "text": [
      "14\n",
      "14\n",
      "1.0000000000000004\n",
      "\n",
      "14\n",
      "14\n",
      "0.9999999999999892\n"
     ]
    }
   ],
   "source": [
    "print(overlap(psiex, psiex))\n",
    "print()\n",
    "print(overlap(psiex, psicompr))"
   ]
  },
  {
   "cell_type": "markdown",
   "metadata": {},
   "source": [
    "f) Write the state |↑↑ · · · ↑⟩ as an MPS with bond dimension 1. Calculate the overlap\n",
    "of this state with the ground state (using MPS techniques, i.e. use the function you\n",
    "wrote in e) )"
   ]
  },
  {
   "cell_type": "code",
   "execution_count": 86,
   "metadata": {},
   "outputs": [
    {
     "name": "stdout",
     "output_type": "stream",
     "text": [
      "[-1.00000000e+00  1.69090273e-16  5.50885602e-16 ...  3.48033769e-17\n",
      " -5.20607496e-17 -7.52561939e-18]\n"
     ]
    },
    {
     "data": {
      "text/plain": [
       "1.0000000000000004"
      ]
     },
     "execution_count": 86,
     "metadata": {},
     "output_type": "execute_result"
    }
   ],
   "source": [
    "L = 14\n",
    "g = 1.5\n",
    "J = 0.\n",
    "sx_list = ed.gen_sx_list(L)\n",
    "sz_list = ed.gen_sz_list(L)\n",
    "H = ed.gen_hamiltonian(sx_list, sz_list, g, J)\n",
    "E, vecs = scipy.sparse.linalg.eigsh(H, which='SA')\n",
    "psinew = vecs[:, 0]\n",
    "print(psinew)\n",
    "np.linalg.norm(psinew)\n",
    "\n",
    "#ground state of Hamiltonian with J = 0 is exactly |↑↑ ·· ↑⟩\n",
    "# which in comp basis is written as (1,0,0...0)"
   ]
  },
  {
   "cell_type": "code",
   "execution_count": 87,
   "metadata": {},
   "outputs": [],
   "source": [
    "psinew_MPS = compress(psinew, 14, 1)"
   ]
  },
  {
   "cell_type": "code",
   "execution_count": 90,
   "metadata": {},
   "outputs": [
    {
     "name": "stdout",
     "output_type": "stream",
     "text": [
      "14\n",
      "14\n",
      "Overlap of psinew and groundstate:  0.8146943347914242\n"
     ]
    }
   ],
   "source": [
    "print(\"Overlap of psinew and groundstate: \", overlap(psinew_MPS, psiex))"
   ]
  },
  {
   "cell_type": "markdown",
   "metadata": {},
   "source": [
    "## Ex 7.2"
   ]
  }
 ],
 "metadata": {
  "kernelspec": {
   "display_name": "Computational",
   "language": "python",
   "name": "python3"
  },
  "language_info": {
   "codemirror_mode": {
    "name": "ipython",
    "version": 3
   },
   "file_extension": ".py",
   "mimetype": "text/x-python",
   "name": "python",
   "nbconvert_exporter": "python",
   "pygments_lexer": "ipython3",
   "version": "3.12.3"
  }
 },
 "nbformat": 4,
 "nbformat_minor": 2
}

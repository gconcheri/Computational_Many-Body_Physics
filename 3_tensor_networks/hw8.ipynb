{
 "cells": [
  {
   "cell_type": "code",
   "execution_count": 1,
   "metadata": {},
   "outputs": [],
   "source": [
    "import numpy as np\n",
    "import scipy\n",
    "import a_mps"
   ]
  },
  {
   "cell_type": "markdown",
   "metadata": {},
   "source": [
    "### Part a\n",
    "Read the code in the file a_mps.py. This file defines the class MPS in an object-oriented\n",
    "approach. In short, defining the class is defining a “type” which collects data in\n",
    "attributes (e.g. MPS.Bs, MPS.L) and has methods (e.g. MPS.site_expectation_value)\n",
    "which can use the attributes (referenced with the special first argument self) for\n",
    "calculations. Generate an instance of the MPS class representing the state |↑↑ . . . ↑⟩\n",
    "with the function init_spinup_MPS, for the start with L = 14 sites. Check that the\n",
    "(site) expectation values of the operators σz\n",
    "and σx  give the expected values."
   ]
  },
  {
   "cell_type": "code",
   "execution_count": 5,
   "metadata": {},
   "outputs": [],
   "source": [
    "state = a_mps.init_spinup_MPS(14)\n",
    "sigmax = np.array([[0,1],[1,0]])\n",
    "sigmaz = np.array([[1,0],[0,-1]])\n",
    "\n",
    "sigmaxmean = state.site_expectation_value(sigmax)\n",
    "sigmazmean = state.site_expectation_value(sigmaz)\n",
    "\n"
   ]
  },
  {
   "cell_type": "markdown",
   "metadata": {},
   "source": [
    "## Part b\n",
    "Write a function similar to init_spinup_MPS, but initialize an MPS for the state\n",
    "|→→ · · · →⟩. Check the expectation values again.\n",
    "Hint: This state is also a product state of |→⟩ = 1√2 (|↑⟩+|↓⟩), so the singular values\n",
    "remain the same and the shape of each B is still (1,2,1)"
   ]
  },
  {
   "cell_type": "code",
   "execution_count": 6,
   "metadata": {},
   "outputs": [],
   "source": [
    "import importlib\n",
    "importlib.reload(a_mps)\n",
    "\n",
    "stateright = a_mps.init_spinright_MPS(14)"
   ]
  },
  {
   "cell_type": "markdown",
   "metadata": {},
   "source": [
    "### Part c)\n",
    "Read the file b_model.py. It defines a class representing the transverse field ising\n",
    "model for a given choice of coupling parameters. Calculate the energy for L =\n",
    "14, J = 1 and g ∈ { 0.5, 1, 1.5 } for each of the above defined two product states."
   ]
  },
  {
   "cell_type": "code",
   "execution_count": null,
   "metadata": {},
   "outputs": [],
   "source": []
  }
 ],
 "metadata": {
  "kernelspec": {
   "display_name": "Computational",
   "language": "python",
   "name": "python3"
  },
  "language_info": {
   "codemirror_mode": {
    "name": "ipython",
    "version": 3
   },
   "file_extension": ".py",
   "mimetype": "text/x-python",
   "name": "python",
   "nbconvert_exporter": "python",
   "pygments_lexer": "ipython3",
   "version": "3.1.undefined"
  }
 },
 "nbformat": 4,
 "nbformat_minor": 2
}

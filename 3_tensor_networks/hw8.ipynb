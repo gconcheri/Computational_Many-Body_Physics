{
 "cells": [
  {
   "cell_type": "code",
   "execution_count": 1,
   "metadata": {},
   "outputs": [],
   "source": [
    "import numpy as np\n",
    "import scipy\n",
    "import a_mps"
   ]
  },
  {
   "cell_type": "markdown",
   "metadata": {},
   "source": [
    "### Part a\n",
    "Read the code in the file a_mps.py. This file defines the class MPS in an object-oriented\n",
    "approach. In short, defining the class is defining a “type” which collects data in\n",
    "attributes (e.g. MPS.Bs, MPS.L) and has methods (e.g. MPS.site_expectation_value)\n",
    "which can use the attributes (referenced with the special first argument self) for\n",
    "calculations. Generate an instance of the MPS class representing the state |↑↑ . . . ↑⟩\n",
    "with the function init_spinup_MPS, for the start with L = 14 sites. Check that the\n",
    "(site) expectation values of the operators σz\n",
    "and σx  give the expected values."
   ]
  },
  {
   "cell_type": "code",
   "execution_count": 7,
   "metadata": {},
   "outputs": [],
   "source": [
    "state = a_mps.init_spinup_MPS(14)\n",
    "sigmax = np.array([[0,1],[1,0]])\n",
    "sigmaz = np.array([[1,0],[0,-1]])\n",
    "\n",
    "sigmaxmean = state.site_expectation_value(sigmax)\n",
    "sigmazmean = state.site_expectation_value(sigmaz)\n",
    "\n"
   ]
  },
  {
   "cell_type": "markdown",
   "metadata": {},
   "source": [
    "## Part b\n",
    "Write a function similar to init_spinup_MPS, but initialize an MPS for the state\n",
    "|→→ · · · →⟩. Check the expectation values again.\n",
    "Hint: This state is also a product state of |→⟩ = 1√2 (|↑⟩+|↓⟩), so the singular values\n",
    "remain the same and the shape of each B is still (1,2,1)"
   ]
  },
  {
   "cell_type": "code",
   "execution_count": 8,
   "metadata": {},
   "outputs": [],
   "source": [
    "import importlib\n",
    "importlib.reload(a_mps)\n",
    "\n",
    "stateright = a_mps.init_spinright_MPS(14)"
   ]
  },
  {
   "cell_type": "markdown",
   "metadata": {},
   "source": [
    "### Part c)\n",
    "Read the file b_model.py. It defines a class representing the transverse field ising\n",
    "model for a given choice of coupling parameters. Calculate the energy for L =\n",
    "14, J = 1 and g ∈ { 0.5, 1, 1.5 } for each of the above defined two product states."
   ]
  },
  {
   "cell_type": "code",
   "execution_count": 9,
   "metadata": {},
   "outputs": [],
   "source": [
    "import b_model\n",
    "L = 14\n",
    "g = [0.5,1,1.5]\n",
    "J = 1.\n",
    "H_model = {}\n",
    "Energyhor = {}\n",
    "Energyup = {}\n",
    "\n",
    "for gs in g:\n",
    "    H_model[gs] = b_model.TFIModel(L,J,gs)\n",
    "    Energyhor[gs] = H_model[gs].energy(stateright)\n",
    "    Energyup[gs] = H_model[gs].energy(state)\n",
    "\n"
   ]
  },
  {
   "cell_type": "code",
   "execution_count": 10,
   "metadata": {},
   "outputs": [
    {
     "data": {
      "text/plain": [
       "-7.0"
      ]
     },
     "execution_count": 10,
     "metadata": {},
     "output_type": "execute_result"
    }
   ],
   "source": [
    "Energyup[0.5]"
   ]
  },
  {
   "cell_type": "markdown",
   "metadata": {},
   "source": [
    "d) Read the file c_tebd.py, which implements the time evolving block decimation. Call\n",
    "the function example_TEBD_gs_finite, which performs an imaginary time evolution\n",
    "to project onto the ground state. (As we will see next week, DMRG is an better\n",
    "alternative to find ground states, but since we only discussed TEBD in class so far,\n",
    "we will use this method.)"
   ]
  },
  {
   "cell_type": "code",
   "execution_count": 13,
   "metadata": {},
   "outputs": [
    {
     "name": "stdout",
     "output_type": "stream",
     "text": [
      "finite TEBD, (imaginary time evolution)\n",
      "L=14, J=1.0, g=1.50\n",
      "dt = 0.10000: E = -23.1210722544100\n",
      "dt = 0.01000: E = -23.2133644786914\n",
      "dt = 0.00100: E = -23.2220037685472\n",
      "dt = 0.00010: E = -23.2228606166766\n",
      "dt = 0.00001: E = -23.2229463553360\n",
      "final bond dimensions:  [2, 4, 8, 13, 17, 18, 18, 18, 17, 13, 8, 4, 2]\n",
      "Exact diagonalization: E = -23.2229594341174\n",
      "relative error:  5.631832304556125e-07\n"
     ]
    }
   ],
   "source": [
    "import c_tebd\n",
    "\n",
    "E, psi, model = c_tebd.example_TEBD_gs_finite(L,J,g=1.5)"
   ]
  },
  {
   "cell_type": "markdown",
   "metadata": {},
   "source": [
    "e) Global quench. Calculate the real time evolution of the spin-up state, |ψ(t)⟩ =\n",
    "e−iHt |↑ . . . ↑⟩ for L = 14, J = 1, g = 1.5. As a first choice, use the parameters\n",
    "chi_max = 30, eps=1.e-10. Evolve up to time t = 10J. Measure and plot the total\n",
    "magnetization P σz\n",
    "i and the half-chain entropy as a function of time t.\n",
    "Hint: Don’t forget the imaginary i for the time step when calculating U_bonds.\n",
    "For the measurements, you can use the methods MPS.site_expectation_value and\n",
    "MPS.entropy."
   ]
  },
  {
   "cell_type": "code",
   "execution_count": 16,
   "metadata": {},
   "outputs": [
    {
     "ename": "TypeError",
     "evalue": "'method' object is not subscriptable",
     "output_type": "error",
     "traceback": [
      "\u001b[0;31m---------------------------------------------------------------------------\u001b[0m",
      "\u001b[0;31mTypeError\u001b[0m                                 Traceback (most recent call last)",
      "Cell \u001b[0;32mIn[16], line 35\u001b[0m\n\u001b[1;32m     32\u001b[0m \u001b[38;5;28;01mfor\u001b[39;00m i \u001b[38;5;129;01min\u001b[39;00m \u001b[38;5;28mrange\u001b[39m(L):\n\u001b[1;32m     33\u001b[0m     M \u001b[38;5;241m+\u001b[39m\u001b[38;5;241m=\u001b[39m psi\u001b[38;5;241m.\u001b[39msite_expectation_value(sigmaz)[i]\n\u001b[0;32m---> 35\u001b[0m S \u001b[38;5;241m=\u001b[39m \u001b[43mpsi\u001b[49m\u001b[38;5;241;43m.\u001b[39;49m\u001b[43mentanglement_entropy\u001b[49m\u001b[43m[\u001b[49m\u001b[43mL\u001b[49m\u001b[38;5;241;43m/\u001b[39;49m\u001b[38;5;241;43m/\u001b[39;49m\u001b[38;5;241;43m2\u001b[39;49m\u001b[43m]\u001b[49m\n",
      "\u001b[0;31mTypeError\u001b[0m: 'method' object is not subscriptable"
     ]
    }
   ],
   "source": [
    "from scipy.linalg import expm\n",
    "\n",
    "def calc_U_bonds_real(model, dt):\n",
    "    \"\"\"Given a model, calculate ``U_bonds[i] = expm(-dt*model.H_bonds[i])``.\n",
    "\n",
    "    Each local operator has legs (i out, (i+1) out, i in, (i+1) in), in short ``i j i* j*``.\n",
    "    Note that no imaginary 'i' is included, thus real `dt` means imaginary time evolution!\n",
    "    \"\"\"\n",
    "    H_bonds = model.H_bonds\n",
    "    d = H_bonds[0].shape[0]\n",
    "    U_bonds = []\n",
    "    for H in H_bonds:\n",
    "        H = np.reshape(H, [d * d, d * d]) #reshape it as a matrix to calculate the time evolution\n",
    "        U = expm(-1j*dt * H)\n",
    "        U_bonds.append(np.reshape(U, [d, d, d, d])) # reshape it as a tensor with 4 legs so that I can \"multiply\" it with MPS\n",
    "        #U_bonds is list of all infinitesimal time evolutions for each pair of sites j,j+1\n",
    "    return U_bonds\n",
    "\n",
    "L = 14\n",
    "J = 1\n",
    "g = 1.5\n",
    "dt = 0.01\n",
    "t = 10*J\n",
    "N_steps = int(t//dt)\n",
    "\n",
    "model = b_model.TFIModel(L, J=J, g=g)\n",
    "psi = a_mps.init_spinup_MPS(L)\n",
    "U_bonds = calc_U_bonds_real(model, dt)\n",
    "c_tebd.run_TEBD(psi, U_bonds, N_steps, chi_max=30, eps=1.e-10)\n",
    "\n",
    "M = 0\n",
    "for i in range(L):\n",
    "    M += psi.site_expectation_value(sigmaz)[i]\n",
    "\n",
    "S = psi.entanglement_entropy\n"
   ]
  },
  {
   "cell_type": "markdown",
   "metadata": {},
   "source": []
  }
 ],
 "metadata": {
  "kernelspec": {
   "display_name": "Computational",
   "language": "python",
   "name": "python3"
  },
  "language_info": {
   "codemirror_mode": {
    "name": "ipython",
    "version": 3
   },
   "file_extension": ".py",
   "mimetype": "text/x-python",
   "name": "python",
   "nbconvert_exporter": "python",
   "pygments_lexer": "ipython3",
   "version": "3.12.3"
  }
 },
 "nbformat": 4,
 "nbformat_minor": 2
}

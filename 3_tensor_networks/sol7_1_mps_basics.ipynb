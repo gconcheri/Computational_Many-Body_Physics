{
 "cells": [
  {
   "cell_type": "code",
   "execution_count": 1,
   "id": "750275c5",
   "metadata": {},
   "outputs": [],
   "source": [
    "import scipy\n",
    "import scipy.linalg\n",
    "import scipy.sparse.linalg\n",
    "import numpy as np\n",
    "import matplotlib.pyplot as plt\n",
    "import ed\n",
    "%matplotlib inline"
   ]
  },
  {
   "cell_type": "code",
   "execution_count": 2,
   "id": "91f2d5ee",
   "metadata": {},
   "outputs": [
    {
     "name": "stdout",
     "output_type": "stream",
     "text": [
      "[-8.14694335e-01  2.76165437e-16  3.41897971e-16 ...  1.17593800e-17\n",
      " -1.03993899e-17 -4.07427082e-06]\n",
      "E = -23.222959434117367\n",
      "norm =  1.0000000000000007\n"
     ]
    }
   ],
   "source": [
    "L = 14\n",
    "g = 1.5\n",
    "J = 1.\n",
    "sx_list = ed.gen_sx_list(L)\n",
    "sz_list = ed.gen_sz_list(L)\n",
    "H = ed.gen_hamiltonian(sx_list, sz_list, g, J)\n",
    "E, vecs = scipy.sparse.linalg.eigsh(H, which='SA')\n",
    "psi0 = vecs[:, 0]\n",
    "print(psi0)\n",
    "print(\"E =\", E[0])\n",
    "print(\"norm = \", np.linalg.norm(psi0)) # close enough :D"
   ]
  },
  {
   "cell_type": "code",
   "execution_count": 3,
   "id": "25cf6103",
   "metadata": {},
   "outputs": [],
   "source": [
    " def compress(psi, L, chimax):\n",
    "    psi_aR = np.reshape(psi, (1, 2**L))\n",
    "    Ms = []\n",
    "    for n in range(1, L+1):\n",
    "        chi_n, dim_R = psi_aR.shape\n",
    "        assert dim_R == 2**(L-(n-1))\n",
    "        psi_LR = np.reshape(psi_aR, (chi_n*2, dim_R//2))\n",
    "        M_n, lambda_n, psi_tilde = scipy.linalg.svd(psi_LR, full_matrices=False, lapack_driver='gesvd')\n",
    "        if len(lambda_n) > chimax:\n",
    "            keep = np.argsort(lambda_n)[::-1][:chimax]\n",
    "            M_n = M_n[:, keep]\n",
    "            lambda_n = lambda_n[keep]\n",
    "            psi_tilde = psi_tilde[keep, :]\n",
    "        chi_np1 = len(lambda_n)\n",
    "        M_n = np.reshape(M_n, (chi_n, 2, chi_np1))\n",
    "        Ms.append(M_n)\n",
    "        psi_aR = lambda_n[:, np.newaxis] * psi_tilde[:,:]\n",
    "    assert psi_aR.shape == (1, 1)\n",
    "    print(\"remaining in compress: \", psi_aR)\n",
    "    return Ms        \n",
    "        "
   ]
  },
  {
   "cell_type": "code",
   "execution_count": 4,
   "id": "6a99c326",
   "metadata": {},
   "outputs": [
    {
     "name": "stdout",
     "output_type": "stream",
     "text": [
      "remaining in compress:  [[-1.]]\n",
      "(1, 2, 2)\n",
      "(2, 2, 4)\n",
      "(4, 2, 8)\n",
      "(8, 2, 16)\n",
      "(16, 2, 32)\n",
      "(32, 2, 64)\n",
      "(64, 2, 128)\n",
      "(128, 2, 64)\n",
      "(64, 2, 32)\n",
      "(32, 2, 16)\n",
      "(16, 2, 8)\n",
      "(8, 2, 4)\n",
      "(4, 2, 2)\n",
      "(2, 2, 1)\n",
      "first M:\n",
      "[[[-1.00000000e+00 -4.09449408e-17]\n",
      "  [-4.09449408e-17  1.00000000e+00]]]\n",
      "second M:\n",
      "[[[-9.86368001e-01  7.84633117e-18  5.78701312e-16  1.64554450e-01]\n",
      "  [-3.00518954e-17 -9.48349869e-01  3.17226302e-01 -1.05448936e-15]]\n",
      "\n",
      " [[-5.63851524e-18  3.17226302e-01  9.48349869e-01 -3.33626869e-15]\n",
      "  [ 1.64554450e-01 -1.19040517e-16  3.55926567e-15  9.86368001e-01]]]\n"
     ]
    }
   ],
   "source": [
    "psi0_MPS_ex = compress(psi0, L, 2**(L//2))\n",
    "for i in range(len(psi0_MPS_ex)):\n",
    "    print(psi0_MPS_ex[i].shape)\n",
    "print(\"first M:\")\n",
    "print(psi0_MPS_ex[0])\n",
    "print(\"second M:\")\n",
    "print(psi0_MPS_ex[1])"
   ]
  },
  {
   "cell_type": "code",
   "execution_count": 5,
   "id": "e09f7402",
   "metadata": {},
   "outputs": [
    {
     "name": "stdout",
     "output_type": "stream",
     "text": [
      "remaining in compress:  [[-1.]]\n"
     ]
    }
   ],
   "source": [
    "psi0_MPS_compr = compress(psi0, L, 10)"
   ]
  },
  {
   "cell_type": "code",
   "execution_count": 6,
   "id": "110b82c6",
   "metadata": {},
   "outputs": [
    {
     "name": "stdout",
     "output_type": "stream",
     "text": [
      "total size of psi_MPS_ex = 43688\n",
      "total size of psi_MPS_compr = 1688\n"
     ]
    }
   ],
   "source": [
    "print(\"total size of psi_MPS_ex =\", sum([M.size for M in psi0_MPS_ex]))\n",
    "print(\"total size of psi_MPS_compr =\", sum([M.size for M in psi0_MPS_compr]))"
   ]
  },
  {
   "cell_type": "code",
   "execution_count": 7,
   "id": "acc567b4",
   "metadata": {},
   "outputs": [],
   "source": [
    " def overlap(mps_bra, mps_ket):\n",
    "    L = len(mps_bra)\n",
    "    assert L == len(mps_ket)\n",
    "    contr = np.ones((1,1)) # has indices (alpha_n*, alpha_n), which we label vR* vR\n",
    "    for n in range(L):\n",
    "        M_ket = mps_ket[n]  # has indices (alpha_n, j_n, alpha_{n+1}) -> vL j vR\n",
    "        contr = np.tensordot(contr, M_ket , axes=(1, 0)) # vR* [vR], [vL] j vR contract indices in []\n",
    "        # now contr has indices vR* j vR\n",
    "        M_bra = mps_bra[n].conj()  # vL* j* vR*\n",
    "        contr = np.tensordot(M_bra, contr, axes=([0, 1], [0, 1])) # [vL*] [j*] vR*, [vR*] [j] vR\n",
    "    assert contr.shape == (1, 1)\n",
    "    return contr.item()\n",
    "        "
   ]
  },
  {
   "cell_type": "code",
   "execution_count": 8,
   "id": "de90d95f",
   "metadata": {},
   "outputs": [
    {
     "name": "stdout",
     "output_type": "stream",
     "text": [
      "1.0000000000000007\n"
     ]
    }
   ],
   "source": [
    "print(overlap(psi0_MPS_ex, psi0_MPS_ex))"
   ]
  },
  {
   "cell_type": "code",
   "execution_count": 9,
   "id": "b6f40e91",
   "metadata": {},
   "outputs": [
    {
     "name": "stdout",
     "output_type": "stream",
     "text": [
      "0.9999999999999889\n",
      "Still very good overlap, given that we have compressed the state quite much!\n"
     ]
    }
   ],
   "source": [
    "print(overlap(psi0_MPS_ex, psi0_MPS_compr))\n",
    "print(\"Still very good overlap, given that we have compressed the state quite much!\")"
   ]
  },
  {
   "cell_type": "code",
   "execution_count": 10,
   "id": "deb029c5",
   "metadata": {},
   "outputs": [],
   "source": [
    "M_up = np.zeros((1, 2, 1))\n",
    "M_up[0, 0, 0] = 1.\n",
    "MPS_all_up = [M_up.copy() for i in range(L)]"
   ]
  },
  {
   "cell_type": "code",
   "execution_count": 11,
   "id": "42017831",
   "metadata": {},
   "outputs": [
    {
     "name": "stdout",
     "output_type": "stream",
     "text": [
      "0.8146943347914248\n"
     ]
    }
   ],
   "source": [
    "print(overlap(psi0_MPS_ex, MPS_all_up))"
   ]
  },
  {
   "cell_type": "code",
   "execution_count": null,
   "id": "ab76e238",
   "metadata": {},
   "outputs": [],
   "source": []
  }
 ],
 "metadata": {
  "kernelspec": {
   "display_name": "Python 3 (ipykernel)",
   "language": "python",
   "name": "python3"
  },
  "language_info": {
   "codemirror_mode": {
    "name": "ipython",
    "version": 3
   },
   "file_extension": ".py",
   "mimetype": "text/x-python",
   "name": "python",
   "nbconvert_exporter": "python",
   "pygments_lexer": "ipython3",
   "version": "3.10.2"
  }
 },
 "nbformat": 4,
 "nbformat_minor": 5
}

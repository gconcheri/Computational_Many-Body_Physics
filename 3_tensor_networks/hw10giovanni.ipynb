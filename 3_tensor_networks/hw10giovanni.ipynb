{
 "cells": [
  {
   "cell_type": "code",
   "execution_count": 60,
   "id": "05fc3535",
   "metadata": {},
   "outputs": [],
   "source": [
    "import numpy as np\n",
    "import scipy\n",
    "import a_mps, b_model, c_tebd, tfi_exact\n",
    "from scipy.linalg import svd"
   ]
  },
  {
   "cell_type": "markdown",
   "id": "4b3b0d69",
   "metadata": {},
   "source": [
    "### Part 1"
   ]
  },
  {
   "cell_type": "code",
   "execution_count": 61,
   "id": "71907801",
   "metadata": {},
   "outputs": [],
   "source": [
    "#a_mps\n",
    "\n",
    "class iMPS(a_mps.MPS):\n",
    "    # inheritance\n",
    "    def get_theta2(self, i):\n",
    "        \"\"\"Calculate effective two-site wave function on sites i,j=(i+1) in mixed canonical form.\n",
    "\n",
    "        The returned array has legs ``vL, i, j, vR``.\"\"\"\n",
    "        j = (i + 1) % self.L\n",
    "        return np.tensordot(self.get_theta1(i), self.Bs[j], [2, 0])  # vL i [vR], [vL] j vR\n",
    "\n",
    "    def get_chi(self):\n",
    "        \"\"\"Return bond dimensions.\"\"\"\n",
    "        return [self.Bs[i].shape[2] for i in range(self.L)]\n",
    "\n",
    "    def bond_expectation_value(self, op):\n",
    "        \"\"\"Calculate expectation values of a local operator at each bond.\"\"\"\n",
    "        result = []\n",
    "        for i in range(self.L):\n",
    "            theta = self.get_theta2(i)  # vL i j vR\n",
    "            op_theta = np.tensordot(op[i], theta, axes=[[2, 3], [1, 2]])\n",
    "            # i j [i*] [j*], vL [i] [j] vR\n",
    "            result.append(np.tensordot(theta.conj(), op_theta, [[0, 1, 2, 3], [2, 0, 1, 3]]))\n",
    "            # [vL*] [i*] [j*] [vR*], [i] [j] [vL] [vR]\n",
    "        return np.real_if_close(result)\n",
    "\n",
    "    def entanglement_entropy(self):\n",
    "        \"\"\"Return the (von-Neumann) entanglement entropy for a bipartition at any of the bonds.\"\"\"\n",
    "        result = []\n",
    "        for i in range(1, self.L):\n",
    "            S = self.Ss[i].copy()\n",
    "            S = S[S > 1e-30]  # 0*log(0) should give 0; avoid warnings or NaN by discarding small S\n",
    "            S2 = S * S\n",
    "            assert abs(np.linalg.norm(S) - 1.) < 1.e-14\n",
    "            result.append(-np.sum(S2 * np.log(S2)))\n",
    "        return np.array(result)\n",
    "    \n",
    "    \n",
    "def split_truncate_theta(theta, chi_max, eps):\n",
    "    \"\"\"Split and truncate a two-site wave function in mixed canonical form.\n",
    "\n",
    "    Split a two-site wave function as follows::\n",
    "          vL --(theta)-- vR     =>    vL --(A)--diag(S)--(B)-- vR\n",
    "                |   |                       |             |\n",
    "                i   j                       i             j\n",
    "\n",
    "    Afterwards, truncate in the new leg (labeled ``vC``).\n",
    "\n",
    "    Parameters\n",
    "    ----------\n",
    "    theta : np.Array[ndim=4]\n",
    "        Two-site wave function in mixed canonical form, with legs ``vL, i, j, vR``.\n",
    "    chi_max : int\n",
    "        Maximum number of singular values to keep\n",
    "    eps : float\n",
    "        Discard any singular values smaller than that.\n",
    "\n",
    "    Returns\n",
    "    -------\n",
    "    A : np.Array[ndim=3]\n",
    "        Left-canonical matrix on site i, with legs ``vL, i, vC``\n",
    "    S : np.Array[ndim=1]\n",
    "        Singular/Schmidt values.\n",
    "    B : np.Array[ndim=3]\n",
    "        Right-canonical matrix on site j, with legs ``vC, j, vR``\n",
    "    \"\"\"\n",
    "    chivL, dL, dR, chivR = theta.shape\n",
    "    theta = np.reshape(theta, [chivL * dL, dR * chivR])\n",
    "    X, Y, Z = svd(theta, full_matrices=False)\n",
    "    # truncate\n",
    "    chivC = min(chi_max, np.sum(Y > eps))\n",
    "    assert chivC >= 1\n",
    "    piv = np.argsort(Y)[::-1][:chivC]  # keep the largest `chivC` singular values\n",
    "    X, Y, Z = X[:, piv], Y[piv], Z[piv, :]\n",
    "    # renormalize\n",
    "    S = Y / np.linalg.norm(Y)  # == Y/sqrt(sum(Y**2))\n",
    "    # split legs of X and Z\n",
    "    A = np.reshape(X, [chivL, dL, chivC])\n",
    "    B = np.reshape(Z, [chivC, dR, chivR])\n",
    "    return A, S, B\n",
    "\n"
   ]
  },
  {
   "cell_type": "code",
   "execution_count": 62,
   "id": "35f7ce82",
   "metadata": {},
   "outputs": [],
   "source": [
    "#c_tebd\n",
    "\n",
    "def update_bond(psi, i, U_bond, chi_max, eps):\n",
    "    \"\"\"Apply `U_bond` acting on i,j=(i+1) to `psi`.\"\"\"\n",
    "    j = (i + 1) % L\n",
    "    # construct theta matrix\n",
    "    theta = psi.get_theta2(i)  # vL i j vR\n",
    "    # apply U\n",
    "    Utheta = np.tensordot(U_bond, theta, axes=([2, 3], [1, 2]))  # i j [i*] [j*], vL [i] [j] vR\n",
    "    Utheta = np.transpose(Utheta, [2, 0, 1, 3])  # vL i j vR\n",
    "    # split and truncate\n",
    "    Ai, Sj, Bj = split_truncate_theta(Utheta, chi_max, eps)\n",
    "    # put back into MPS\n",
    "    Gi = np.tensordot(np.diag(psi.Ss[i]**(-1)), Ai, axes=[1, 0])  # vL [vL*], [vL] i vC\n",
    "    psi.Bs[i] = np.tensordot(Gi, np.diag(Sj), axes=[2, 0])  # vL i [vC], [vC] vC\n",
    "    psi.Ss[j] = Sj  # vC\n",
    "    psi.Bs[j] = Bj  # vC j vR\n"
   ]
  },
  {
   "cell_type": "code",
   "execution_count": 63,
   "id": "c0152900",
   "metadata": {},
   "outputs": [],
   "source": [
    "#b_model\n",
    "class iTFIModel(b_model.TFIModel):\n",
    "    def init_H_bonds(self):\n",
    "        \"\"\"Initialize `H_bonds` hamiltonian. Called by __init__().\"\"\"\n",
    "        sx, sz, id = self.sigmax, self.sigmaz, self.id\n",
    "        d = self.d\n",
    "        H_list = []\n",
    "        for i in range(self.L):\n",
    "            gL = gR = 0.5 * self.g\n",
    "            H_bond = -self.J * np.kron(sx, sx) - gL * np.kron(sz, id) - gR * np.kron(id, sz)\n",
    "            # H_bond has legs ``i, j, i*, j*``\n",
    "            H_list.append(np.reshape(H_bond, [d, d, d, d]))\n",
    "        self.H_bonds = H_list\n",
    "        \n",
    "    def energy_density(self, psi):\n",
    "        \"\"\"Evaluate energy E = <psi|H|psi> for the given MPS.\"\"\"\n",
    "        assert psi.L == self.L\n",
    "        return np.sum(psi.bond_expectation_value(self.H_bonds))/self.L"
   ]
  },
  {
   "cell_type": "markdown",
   "id": "bd3f3abb",
   "metadata": {},
   "source": [
    "### Part b\n",
    "Run imaginary time evolution (as was done for the finite case) to find the ground\n",
    "state of the infinite system with a L = 2 unit cell. Compare your results for the\n",
    "energy with the function2 tfi_exact.infinite_gs_energy"
   ]
  },
  {
   "cell_type": "code",
   "execution_count": 69,
   "id": "56e5a443",
   "metadata": {},
   "outputs": [],
   "source": [
    "from scipy.linalg import expm\n",
    "\n",
    "\n",
    "def calc_U_bonds(model, dt):\n",
    "    \"\"\"Given a model, calculate ``U_bonds[i] = expm(-dt*model.H_bonds[i])``.\n",
    "\n",
    "    Each local operator has legs (i out, (i+1) out, i in, (i+1) in), in short ``i j i* j*``.\n",
    "    Note that no imaginary 'i' is included, thus real `dt` means imaginary time evolution!\n",
    "    \"\"\"\n",
    "    H_bonds = model.H_bonds\n",
    "    d = H_bonds[0].shape[0]\n",
    "    U_bonds = []\n",
    "    for H in H_bonds:\n",
    "        H = np.reshape(H, [d * d, d * d])\n",
    "        U = expm(-dt * H)\n",
    "        U_bonds.append(np.reshape(U, [d, d, d, d]))\n",
    "    return U_bonds\n",
    "\n",
    "def run_TEBD(psi, U_bonds, N_steps, chi_max, eps):\n",
    "    Nbonds = psi.L\n",
    "    assert len(U_bonds) == Nbonds\n",
    "    for n in range(N_steps):\n",
    "        for k in [0, 1]:  # even, odd\n",
    "            for i_bond in range(k, Nbonds, 2):\n",
    "                update_bond(psi, i_bond, U_bonds[i_bond], chi_max, eps)\n",
    "    # done\n",
    "    \n",
    "def init_spinup_MPS(L):\n",
    "    \"\"\"Return a product state with all spins up as an MPS\"\"\"\n",
    "    B = np.zeros([1, 2, 1], np.float64)\n",
    "    B[0, 0, 0] = 1.\n",
    "    S = np.ones([1], np.float64)\n",
    "    Bs = [B.copy() for i in range(L)]\n",
    "    Ss = [S.copy() for i in range(L)]\n",
    "    return iMPS(Bs, Ss)"
   ]
  },
  {
   "cell_type": "code",
   "execution_count": 70,
   "id": "31b520bc",
   "metadata": {},
   "outputs": [],
   "source": [
    "def example_TEBD_gs_infinite(L, J, g):\n",
    "    print(\"infinite TEBD, (imaginary time evolution)\")\n",
    "    print(\"L={L:d}, J={J:.1f}, g={g:.2f}\".format(L=L, J=J, g=g))\n",
    "    model = iTFIModel(L, J=J, g=g)\n",
    "    psi = init_spinup_MPS(L)\n",
    "    for dt in [0.1, 0.01, 0.001, 1.e-4, 1.e-5]:\n",
    "        U_bonds = calc_U_bonds(model, dt)\n",
    "        run_TEBD(psi, U_bonds, N_steps=500, chi_max=30, eps=1.e-10)\n",
    "        E = model.energy_density(psi)\n",
    "        print(\"dt = {dt:.5f}: E = {E:.13f}\".format(dt=dt, E=E))\n",
    "    print(\"final bond dimensions: \", psi.get_chi())\n",
    "    if L < 20:  # for small systems compare to exact diagonalization\n",
    "        E_exact = tfi_exact.infinite_gs_energy(1., g)\n",
    "        print(\"Exact diagonalization: E = {E:.13f}\".format(E=E_exact))\n",
    "        print(\"relative error: \", abs((E - E_exact) / E_exact))\n",
    "    return E, psi, model"
   ]
  },
  {
   "cell_type": "code",
   "execution_count": 71,
   "id": "d6c9c7c4",
   "metadata": {},
   "outputs": [
    {
     "name": "stdout",
     "output_type": "stream",
     "text": [
      "infinite TEBD, (imaginary time evolution)\n",
      "L=2, J=1.0, g=0.50\n",
      "dt = 0.10000: E = -1.0633607874145\n",
      "dt = 0.01000: E = -1.0635249533578\n",
      "dt = 0.00100: E = -1.0635424443527\n",
      "dt = 0.00010: E = -1.0635442029089\n",
      "dt = 0.00001: E = -1.0635443787994\n",
      "final bond dimensions:  [20, 20]\n",
      "Exact diagonalization: E = -1.0635444099734\n",
      "relative error:  2.9311367435004836e-08\n"
     ]
    },
    {
     "data": {
      "text/plain": [
       "(-1.0635443787994308,\n",
       " <__main__.iMPS at 0x1a3124d7b90>,\n",
       " <__main__.iTFIModel at 0x1a3123f56d0>)"
      ]
     },
     "execution_count": 71,
     "metadata": {},
     "output_type": "execute_result"
    }
   ],
   "source": [
    "L = 2\n",
    "example_TEBD_gs_infinite(L,1,0.5)"
   ]
  },
  {
   "cell_type": "code",
   "execution_count": null,
   "id": "24309d72",
   "metadata": {},
   "outputs": [],
   "source": []
  },
  {
   "cell_type": "code",
   "execution_count": null,
   "id": "37a4f2d2",
   "metadata": {},
   "outputs": [],
   "source": []
  },
  {
   "cell_type": "code",
   "execution_count": null,
   "id": "1cd32e51",
   "metadata": {},
   "outputs": [],
   "source": []
  },
  {
   "cell_type": "code",
   "execution_count": null,
   "id": "5b02ab8d",
   "metadata": {},
   "outputs": [],
   "source": []
  },
  {
   "cell_type": "code",
   "execution_count": null,
   "id": "a620390a",
   "metadata": {},
   "outputs": [],
   "source": []
  },
  {
   "cell_type": "code",
   "execution_count": null,
   "id": "1a3d873c",
   "metadata": {},
   "outputs": [],
   "source": []
  },
  {
   "cell_type": "code",
   "execution_count": null,
   "id": "54b4fb7e",
   "metadata": {},
   "outputs": [],
   "source": []
  },
  {
   "cell_type": "code",
   "execution_count": null,
   "id": "391ee352",
   "metadata": {},
   "outputs": [],
   "source": []
  },
  {
   "cell_type": "code",
   "execution_count": null,
   "id": "5935648b",
   "metadata": {},
   "outputs": [],
   "source": []
  },
  {
   "cell_type": "code",
   "execution_count": null,
   "id": "21ce64af",
   "metadata": {},
   "outputs": [],
   "source": []
  }
 ],
 "metadata": {
  "kernelspec": {
   "display_name": "Python 3 (ipykernel)",
   "language": "python",
   "name": "python3"
  },
  "language_info": {
   "codemirror_mode": {
    "name": "ipython",
    "version": 3
   },
   "file_extension": ".py",
   "mimetype": "text/x-python",
   "name": "python",
   "nbconvert_exporter": "python",
   "pygments_lexer": "ipython3",
   "version": "3.11.5"
  }
 },
 "nbformat": 4,
 "nbformat_minor": 5
}

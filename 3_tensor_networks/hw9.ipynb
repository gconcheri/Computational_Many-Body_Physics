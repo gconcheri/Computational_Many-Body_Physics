{
 "cells": [
  {
   "cell_type": "code",
   "execution_count": 34,
   "metadata": {},
   "outputs": [],
   "source": [
    "import numpy as np\n",
    "import scipy\n",
    "import matplotlib.pyplot as plt\n",
    "import importlib"
   ]
  },
  {
   "cell_type": "markdown",
   "metadata": {},
   "source": [
    "## Part a"
   ]
  },
  {
   "cell_type": "code",
   "execution_count": 35,
   "metadata": {},
   "outputs": [
    {
     "data": {
      "text/plain": [
       "<module 'b_model' from '/Users/Giovanni/Desktop/CompQMBP/tutorials-2024/3_tensor_networks/b_model.py'>"
      ]
     },
     "execution_count": 35,
     "metadata": {},
     "output_type": "execute_result"
    }
   ],
   "source": [
    "import b_model\n",
    "importlib.reload(b_model)"
   ]
  },
  {
   "cell_type": "code",
   "execution_count": 36,
   "metadata": {},
   "outputs": [
    {
     "name": "stdout",
     "output_type": "stream",
     "text": [
      "(3, 3, 2, 2)\n"
     ]
    }
   ],
   "source": [
    "L = 14\n",
    "J = 1\n",
    "g = 1.5\n",
    "\n",
    "model = b_model.TFIModel(L,J,g)"
   ]
  },
  {
   "cell_type": "markdown",
   "metadata": {},
   "source": [
    "## Part b\n",
    "Read the code of d_dmrg.py. To run a DMRG simulation, you need to initialize an\n",
    "instance of the DMRGEngine class in d_dmrg.py and call it’s sweep method a few times.\n",
    "Initialize an MPS with all spins pointing up, a model for L = 14, J ≡ 1, g = 1.5\n",
    "and a DMRGEngine. How many sweeps does DMRG need to converge? Compare the\n",
    "energy of the resulting state after each sweep with the ground state energy obtained\n",
    "by exact diagonalization (tfi_exact.py)"
   ]
  },
  {
   "cell_type": "code",
   "execution_count": 37,
   "metadata": {},
   "outputs": [
    {
     "data": {
      "text/plain": [
       "<module 'd_dmrg' from '/Users/Giovanni/Desktop/CompQMBP/tutorials-2024/3_tensor_networks/d_dmrg.py'>"
      ]
     },
     "execution_count": 37,
     "metadata": {},
     "output_type": "execute_result"
    }
   ],
   "source": [
    "import a_mps \n",
    "import d_dmrg\n",
    "import tfi_exact\n",
    "\n",
    "importlib.reload(a_mps)\n",
    "importlib.reload(d_dmrg)\n"
   ]
  },
  {
   "cell_type": "code",
   "execution_count": 38,
   "metadata": {},
   "outputs": [
    {
     "name": "stdout",
     "output_type": "stream",
     "text": [
      "-23.222959434117396\n"
     ]
    }
   ],
   "source": [
    "psi = a_mps.init_spinup_MPS(model.L)\n",
    "DMRG = d_dmrg.DMRGEngine(psi,model)\n",
    "E0 = tfi_exact.finite_gs_energy(L,J,g)\n",
    "print(E0)"
   ]
  },
  {
   "cell_type": "code",
   "execution_count": 39,
   "metadata": {},
   "outputs": [
    {
     "name": "stdout",
     "output_type": "stream",
     "text": [
      "-23.224981768014235\n",
      "-23.22295944231678\n",
      "-23.22295943411736\n",
      "-23.222959434117367\n",
      "4\n"
     ]
    },
    {
     "data": {
      "text/plain": [
       "'\\n0. en1 = 1, en = 0\\n1. en1 = 0, en = a\\n2. en1 = a, en = b\\n'"
      ]
     },
     "execution_count": 39,
     "metadata": {},
     "output_type": "execute_result"
    }
   ],
   "source": [
    "n = 0\n",
    "en = 0\n",
    "en1 = 1\n",
    "while np.abs(en - en1) > 1e-14:\n",
    "    en1 = en\n",
    "    DMRG.sweep()\n",
    "    en = model.energy(DMRG.psi)\n",
    "    n += 1\n",
    "    print(en)\n",
    "\n",
    "print(n)\n",
    "\n",
    "\"\"\"\n",
    "0. en1 = 1, en = 0\n",
    "1. en1 = 0, en = a\n",
    "2. en1 = a, en = b\n",
    "\"\"\"\n"
   ]
  },
  {
   "cell_type": "markdown",
   "metadata": {},
   "source": [
    "## Part C\n",
    "Write a function to perform a full DMRG simulation. The function should initialize\n",
    "an initial MPS, model and the DMRGEngine and perform sweeps until convergence.\n",
    "Finally, it should return the model and state."
   ]
  },
  {
   "cell_type": "code",
   "execution_count": 9,
   "metadata": {},
   "outputs": [],
   "source": [
    "def DMRG_simulation(L,J,g):\n",
    "    model = b_model.TFIModel(L,J,g)\n",
    "    psi = a_mps.init_spinup_MPS(L)\n",
    "    DMRG = d_dmrg.DMRGEngine(psi,model)\n",
    "    E0 = tfi_exact.finite_gs_energy(L,J,g)\n",
    "    n = 0\n",
    "    en = 0\n",
    "    en1 = 1\n",
    "    while np.abs(en - en1) > 1e-14:\n",
    "        en1 = en\n",
    "        DMRG.sweep()\n",
    "        en = model.energy(DMRG.psi)\n",
    "        n += 1\n",
    "    return en\n",
    "    "
   ]
  }
 ],
 "metadata": {
  "kernelspec": {
   "display_name": "Python 3",
   "language": "python",
   "name": "python3"
  },
  "language_info": {
   "codemirror_mode": {
    "name": "ipython",
    "version": 3
   },
   "file_extension": ".py",
   "mimetype": "text/x-python",
   "name": "python",
   "nbconvert_exporter": "python",
   "pygments_lexer": "ipython3",
   "version": "3.12.3"
  }
 },
 "nbformat": 4,
 "nbformat_minor": 2
}
